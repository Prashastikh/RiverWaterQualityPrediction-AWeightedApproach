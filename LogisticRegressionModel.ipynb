{
  "nbformat": 4,
  "nbformat_minor": 0,
  "metadata": {
    "colab": {
      "name": "LogisticRegressionModel.ipynb",
      "provenance": [],
      "toc_visible": true
    },
    "kernelspec": {
      "name": "python3",
      "display_name": "Python 3"
    }
  },
  "cells": [
    {
      "cell_type": "markdown",
      "metadata": {
        "id": "oFz1PMcEXUfK",
        "colab_type": "text"
      },
      "source": [
        "##Importing Libraries"
      ]
    },
    {
      "cell_type": "code",
      "metadata": {
        "id": "RJbuJYx1XLgc",
        "colab_type": "code",
        "colab": {}
      },
      "source": [
        "import pandas as pd\n",
        "import numpy as np\n",
        "import sklearn\n",
        "import keras\n",
        "from sklearn.model_selection import train_test_split\n",
        "from sklearn.preprocessing import LabelEncoder \n",
        "from sklearn.metrics import confusion_matrix \n",
        "from sklearn.metrics import accuracy_score \n",
        "from sklearn.metrics import classification_report"
      ],
      "execution_count": 1,
      "outputs": []
    },
    {
      "cell_type": "code",
      "metadata": {
        "id": "apqPEuhIXg2F",
        "colab_type": "code",
        "colab": {}
      },
      "source": [
        "df = pd.read_csv('RiverDataResult.csv')"
      ],
      "execution_count": 2,
      "outputs": []
    },
    {
      "cell_type": "code",
      "metadata": {
        "id": "17-W8R1kXji3",
        "colab_type": "code",
        "colab": {
          "base_uri": "https://localhost:8080/",
          "height": 34
        },
        "outputId": "9a7fc727-7237-456b-b20b-2d98a0d30fab"
      },
      "source": [
        "print(df.shape)"
      ],
      "execution_count": 3,
      "outputs": [
        {
          "output_type": "stream",
          "text": [
            "(2326, 22)\n"
          ],
          "name": "stdout"
        }
      ]
    },
    {
      "cell_type": "code",
      "metadata": {
        "id": "W5AjPstKXlHX",
        "colab_type": "code",
        "colab": {
          "base_uri": "https://localhost:8080/",
          "height": 384
        },
        "outputId": "55924594-fd3e-41e3-f507-e20a6b371824"
      },
      "source": [
        "df.head()"
      ],
      "execution_count": 4,
      "outputs": [
        {
          "output_type": "execute_result",
          "data": {
            "text/html": [
              "<div>\n",
              "<style scoped>\n",
              "    .dataframe tbody tr th:only-of-type {\n",
              "        vertical-align: middle;\n",
              "    }\n",
              "\n",
              "    .dataframe tbody tr th {\n",
              "        vertical-align: top;\n",
              "    }\n",
              "\n",
              "    .dataframe thead th {\n",
              "        text-align: right;\n",
              "    }\n",
              "</style>\n",
              "<table border=\"1\" class=\"dataframe\">\n",
              "  <thead>\n",
              "    <tr style=\"text-align: right;\">\n",
              "      <th></th>\n",
              "      <th>Date</th>\n",
              "      <th>Time</th>\n",
              "      <th>Temp</th>\n",
              "      <th>pH</th>\n",
              "      <th>ORP</th>\n",
              "      <th>EC</th>\n",
              "      <th>RES</th>\n",
              "      <th>TDS</th>\n",
              "      <th>Salinity</th>\n",
              "      <th>Pressure</th>\n",
              "      <th>D.O.</th>\n",
              "      <th>Turbidity</th>\n",
              "      <th>QpH</th>\n",
              "      <th>QTur</th>\n",
              "      <th>QTDS</th>\n",
              "      <th>QDO</th>\n",
              "      <th>WpH</th>\n",
              "      <th>WTur</th>\n",
              "      <th>WTDS</th>\n",
              "      <th>WDO</th>\n",
              "      <th>WQI</th>\n",
              "      <th>Result</th>\n",
              "    </tr>\n",
              "  </thead>\n",
              "  <tbody>\n",
              "    <tr>\n",
              "      <th>0</th>\n",
              "      <td>17-02-2020</td>\n",
              "      <td>17:04:52</td>\n",
              "      <td>20.67</td>\n",
              "      <td>8.40</td>\n",
              "      <td>88.6</td>\n",
              "      <td>470</td>\n",
              "      <td>2128</td>\n",
              "      <td>306</td>\n",
              "      <td>0.23</td>\n",
              "      <td>14.568</td>\n",
              "      <td>101.5</td>\n",
              "      <td>36.7</td>\n",
              "      <td>65</td>\n",
              "      <td>47</td>\n",
              "      <td>55</td>\n",
              "      <td>95</td>\n",
              "      <td>16.575</td>\n",
              "      <td>9.165</td>\n",
              "      <td>9.625</td>\n",
              "      <td>35.625</td>\n",
              "      <td>70.990</td>\n",
              "      <td>4</td>\n",
              "    </tr>\n",
              "    <tr>\n",
              "      <th>1</th>\n",
              "      <td>17-02-2020</td>\n",
              "      <td>17:05:02</td>\n",
              "      <td>20.67</td>\n",
              "      <td>8.40</td>\n",
              "      <td>88.5</td>\n",
              "      <td>470</td>\n",
              "      <td>2128</td>\n",
              "      <td>305</td>\n",
              "      <td>0.23</td>\n",
              "      <td>14.569</td>\n",
              "      <td>101.4</td>\n",
              "      <td>42.4</td>\n",
              "      <td>65</td>\n",
              "      <td>38</td>\n",
              "      <td>55</td>\n",
              "      <td>95</td>\n",
              "      <td>16.575</td>\n",
              "      <td>7.410</td>\n",
              "      <td>9.625</td>\n",
              "      <td>35.625</td>\n",
              "      <td>69.235</td>\n",
              "      <td>3</td>\n",
              "    </tr>\n",
              "    <tr>\n",
              "      <th>2</th>\n",
              "      <td>17-02-2020</td>\n",
              "      <td>17:05:12</td>\n",
              "      <td>20.67</td>\n",
              "      <td>8.40</td>\n",
              "      <td>88.2</td>\n",
              "      <td>470</td>\n",
              "      <td>2128</td>\n",
              "      <td>305</td>\n",
              "      <td>0.23</td>\n",
              "      <td>14.569</td>\n",
              "      <td>101.5</td>\n",
              "      <td>38.2</td>\n",
              "      <td>65</td>\n",
              "      <td>47</td>\n",
              "      <td>55</td>\n",
              "      <td>95</td>\n",
              "      <td>16.575</td>\n",
              "      <td>9.165</td>\n",
              "      <td>9.625</td>\n",
              "      <td>35.625</td>\n",
              "      <td>70.990</td>\n",
              "      <td>4</td>\n",
              "    </tr>\n",
              "    <tr>\n",
              "      <th>3</th>\n",
              "      <td>17-02-2020</td>\n",
              "      <td>17:05:22</td>\n",
              "      <td>20.67</td>\n",
              "      <td>8.40</td>\n",
              "      <td>87.9</td>\n",
              "      <td>470</td>\n",
              "      <td>2128</td>\n",
              "      <td>305</td>\n",
              "      <td>0.23</td>\n",
              "      <td>14.567</td>\n",
              "      <td>101.7</td>\n",
              "      <td>38.0</td>\n",
              "      <td>65</td>\n",
              "      <td>47</td>\n",
              "      <td>55</td>\n",
              "      <td>95</td>\n",
              "      <td>16.575</td>\n",
              "      <td>9.165</td>\n",
              "      <td>9.625</td>\n",
              "      <td>35.625</td>\n",
              "      <td>70.990</td>\n",
              "      <td>4</td>\n",
              "    </tr>\n",
              "    <tr>\n",
              "      <th>4</th>\n",
              "      <td>17-02-2020</td>\n",
              "      <td>17:05:32</td>\n",
              "      <td>20.68</td>\n",
              "      <td>8.41</td>\n",
              "      <td>87.8</td>\n",
              "      <td>469</td>\n",
              "      <td>2132</td>\n",
              "      <td>305</td>\n",
              "      <td>0.23</td>\n",
              "      <td>14.566</td>\n",
              "      <td>101.7</td>\n",
              "      <td>46.8</td>\n",
              "      <td>65</td>\n",
              "      <td>38</td>\n",
              "      <td>55</td>\n",
              "      <td>95</td>\n",
              "      <td>16.575</td>\n",
              "      <td>7.410</td>\n",
              "      <td>9.625</td>\n",
              "      <td>35.625</td>\n",
              "      <td>69.235</td>\n",
              "      <td>3</td>\n",
              "    </tr>\n",
              "  </tbody>\n",
              "</table>\n",
              "</div>"
            ],
            "text/plain": [
              "         Date      Time   Temp   pH   ...   WTDS     WDO     WQI  Result\n",
              "0  17-02-2020  17:04:52  20.67  8.40  ...  9.625  35.625  70.990       4\n",
              "1  17-02-2020  17:05:02  20.67  8.40  ...  9.625  35.625  69.235       3\n",
              "2  17-02-2020  17:05:12  20.67  8.40  ...  9.625  35.625  70.990       4\n",
              "3  17-02-2020  17:05:22  20.67  8.40  ...  9.625  35.625  70.990       4\n",
              "4  17-02-2020  17:05:32  20.68  8.41  ...  9.625  35.625  69.235       3\n",
              "\n",
              "[5 rows x 22 columns]"
            ]
          },
          "metadata": {
            "tags": []
          },
          "execution_count": 4
        }
      ]
    },
    {
      "cell_type": "markdown",
      "metadata": {
        "id": "bLwfG52oYtq3",
        "colab_type": "text"
      },
      "source": [
        "#Train Test Splitting"
      ]
    },
    {
      "cell_type": "code",
      "metadata": {
        "id": "UKzPm7sjYTwj",
        "colab_type": "code",
        "colab": {}
      },
      "source": [
        "X = df.iloc[:,[3,7,10,11]]"
      ],
      "execution_count": 5,
      "outputs": []
    },
    {
      "cell_type": "code",
      "metadata": {
        "id": "IOUtA6-WYWZT",
        "colab_type": "code",
        "colab": {
          "base_uri": "https://localhost:8080/",
          "height": 265
        },
        "outputId": "63587956-c08d-409d-e2b8-846a7a82937c"
      },
      "source": [
        "print(X)"
      ],
      "execution_count": 6,
      "outputs": [
        {
          "output_type": "stream",
          "text": [
            "       pH   TDS   D.O.  Turbidity\n",
            "0     8.40  306  101.5       36.7\n",
            "1     8.40  305  101.4       42.4\n",
            "2     8.40  305  101.5       38.2\n",
            "3     8.40  305  101.7       38.0\n",
            "4     8.41  305  101.7       46.8\n",
            "...    ...  ...    ...        ...\n",
            "2321  8.94  299  124.9       12.3\n",
            "2322  8.96  297  125.6       11.9\n",
            "2323  8.98  296  125.9       11.8\n",
            "2324  8.95  297  125.7       11.6\n",
            "2325  8.93  299  125.7       13.6\n",
            "\n",
            "[2326 rows x 4 columns]\n"
          ],
          "name": "stdout"
        }
      ]
    },
    {
      "cell_type": "code",
      "metadata": {
        "id": "OSB7preTYXtp",
        "colab_type": "code",
        "colab": {}
      },
      "source": [
        "Y=df['Result']"
      ],
      "execution_count": 7,
      "outputs": []
    },
    {
      "cell_type": "code",
      "metadata": {
        "id": "uvaYH610YZ5N",
        "colab_type": "code",
        "colab": {}
      },
      "source": [
        "X_train, X_test, Y_train, Y_test = train_test_split(X, Y, test_size=0.33, random_state=45)\n",
        "\n",
        "X_train = X_train.values\n",
        "X_test = X_test.values\n",
        "\n",
        "Y_train = Y_train.values\n",
        "Y_test = Y_test.values"
      ],
      "execution_count": 8,
      "outputs": []
    },
    {
      "cell_type": "markdown",
      "metadata": {
        "id": "FBLTfwXlYxc1",
        "colab_type": "text"
      },
      "source": [
        "#Scaling"
      ]
    },
    {
      "cell_type": "code",
      "metadata": {
        "id": "ETOjSJ-ZYcoB",
        "colab_type": "code",
        "colab": {}
      },
      "source": [
        "from sklearn.preprocessing import StandardScaler"
      ],
      "execution_count": 9,
      "outputs": []
    },
    {
      "cell_type": "code",
      "metadata": {
        "id": "qlktJLtMYgA4",
        "colab_type": "code",
        "colab": {}
      },
      "source": [
        "scaler = StandardScaler()\n",
        "scaler.fit(X_train)\n",
        "\n",
        "X_train = scaler.transform(X_train)\n",
        "X_test = scaler.transform(X_test)"
      ],
      "execution_count": 10,
      "outputs": []
    },
    {
      "cell_type": "markdown",
      "metadata": {
        "id": "uTxNb7vRY18x",
        "colab_type": "text"
      },
      "source": [
        "#Model"
      ]
    },
    {
      "cell_type": "code",
      "metadata": {
        "id": "BMtsDeGcXm0a",
        "colab_type": "code",
        "colab": {}
      },
      "source": [
        "from sklearn.linear_model import LogisticRegression"
      ],
      "execution_count": 11,
      "outputs": []
    },
    {
      "cell_type": "code",
      "metadata": {
        "id": "ziUpEJhUXv2g",
        "colab_type": "code",
        "colab": {
          "base_uri": "https://localhost:8080/",
          "height": 105
        },
        "outputId": "7035f1b0-9738-4778-a70d-c05b469ae440"
      },
      "source": [
        "clf = LogisticRegression(multi_class='multinomial', solver='newton-cg')\n",
        "clf.fit(X_train, Y_train)"
      ],
      "execution_count": 12,
      "outputs": [
        {
          "output_type": "execute_result",
          "data": {
            "text/plain": [
              "LogisticRegression(C=1.0, class_weight=None, dual=False, fit_intercept=True,\n",
              "                   intercept_scaling=1, l1_ratio=None, max_iter=100,\n",
              "                   multi_class='multinomial', n_jobs=None, penalty='l2',\n",
              "                   random_state=None, solver='newton-cg', tol=0.0001, verbose=0,\n",
              "                   warm_start=False)"
            ]
          },
          "metadata": {
            "tags": []
          },
          "execution_count": 12
        }
      ]
    },
    {
      "cell_type": "markdown",
      "metadata": {
        "id": "Z_DVt6WKYDZm",
        "colab_type": "text"
      },
      "source": [
        "#Prediction"
      ]
    },
    {
      "cell_type": "code",
      "metadata": {
        "id": "hrWFDDabXwf5",
        "colab_type": "code",
        "colab": {}
      },
      "source": [
        "Y_predl = clf.predict(X_test)"
      ],
      "execution_count": 13,
      "outputs": []
    },
    {
      "cell_type": "code",
      "metadata": {
        "id": "nFMs3A9VX0JV",
        "colab_type": "code",
        "colab": {
          "base_uri": "https://localhost:8080/",
          "height": 34
        },
        "outputId": "b1a069fc-8f3e-47fa-972f-28de078a76bf"
      },
      "source": [
        "Y_predla = clf.predict(X_train)\n",
        "acc2 = accuracy_score(Y_train, Y_predla)\n",
        "print(acc2);"
      ],
      "execution_count": 14,
      "outputs": [
        {
          "output_type": "stream",
          "text": [
            "0.9191270860077022\n"
          ],
          "name": "stdout"
        }
      ]
    },
    {
      "cell_type": "markdown",
      "metadata": {
        "id": "24VFW9eBX8rM",
        "colab_type": "text"
      },
      "source": [
        "#Accuracy\n"
      ]
    },
    {
      "cell_type": "code",
      "metadata": {
        "id": "NieabKcIX1BC",
        "colab_type": "code",
        "colab": {
          "base_uri": "https://localhost:8080/",
          "height": 87
        },
        "outputId": "7bec0305-a3e6-443e-f1fe-92a421e9c47d"
      },
      "source": [
        "acc =  accuracy_score(Y_test, Y_predl)\n",
        "cm = confusion_matrix(Y_test, Y_predl)\n",
        "print(acc)\n",
        "print(cm)"
      ],
      "execution_count": 15,
      "outputs": [
        {
          "output_type": "stream",
          "text": [
            "0.9127604166666666\n",
            "[[  2   0   0]\n",
            " [  0 361  10]\n",
            " [  0  57 338]]\n"
          ],
          "name": "stdout"
        }
      ]
    },
    {
      "cell_type": "markdown",
      "metadata": {
        "id": "SfOp5BmxX6rq",
        "colab_type": "text"
      },
      "source": [
        "#Loss"
      ]
    },
    {
      "cell_type": "code",
      "metadata": {
        "id": "OLMOD3MOX5FY",
        "colab_type": "code",
        "colab": {
          "base_uri": "https://localhost:8080/",
          "height": 34
        },
        "outputId": "1425dce6-168c-43a3-e304-ef859f337db4"
      },
      "source": [
        "pra = clf.predict_proba(X_test)\n",
        "sklearn.metrics.log_loss(Y_test, pra,eps=1e-15, normalize=True, sample_weight=None, labels=None)"
      ],
      "execution_count": 16,
      "outputs": [
        {
          "output_type": "execute_result",
          "data": {
            "text/plain": [
              "0.3686610762738249"
            ]
          },
          "metadata": {
            "tags": []
          },
          "execution_count": 16
        }
      ]
    }
  ]
}