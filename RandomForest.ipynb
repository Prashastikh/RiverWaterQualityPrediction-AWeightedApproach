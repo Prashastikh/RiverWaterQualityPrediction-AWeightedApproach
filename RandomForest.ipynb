{
  "nbformat": 4,
  "nbformat_minor": 0,
  "metadata": {
    "colab": {
      "name": "RandomForest.ipynb",
      "provenance": [],
      "toc_visible": true
    },
    "kernelspec": {
      "name": "python3",
      "display_name": "Python 3"
    }
  },
  "cells": [
    {
      "cell_type": "markdown",
      "metadata": {
        "id": "MXFdO35CsRkm",
        "colab_type": "text"
      },
      "source": [
        "#Importing Libraries"
      ]
    },
    {
      "cell_type": "code",
      "metadata": {
        "id": "IZe59KOxpD_8",
        "colab_type": "code",
        "colab": {}
      },
      "source": [
        "import pandas as pd\n",
        "import numpy as np\n",
        "import sklearn\n",
        "import keras\n",
        "from sklearn.model_selection import train_test_split\n",
        "from sklearn.preprocessing import LabelEncoder \n",
        "from sklearn.metrics import confusion_matrix \n",
        "from sklearn.metrics import accuracy_score \n",
        "from sklearn.metrics import classification_report\n",
        "import matplotlib.pyplot as plt"
      ],
      "execution_count": 1,
      "outputs": []
    },
    {
      "cell_type": "markdown",
      "metadata": {
        "id": "4afTPt5vsYwW",
        "colab_type": "text"
      },
      "source": [
        "#Importing Dataset"
      ]
    },
    {
      "cell_type": "code",
      "metadata": {
        "id": "NdxhIj36pl9j",
        "colab_type": "code",
        "colab": {}
      },
      "source": [
        "df = pd.read_csv('RiverDataResult.csv')"
      ],
      "execution_count": 2,
      "outputs": []
    },
    {
      "cell_type": "code",
      "metadata": {
        "id": "Q7QGklpqpob0",
        "colab_type": "code",
        "colab": {
          "base_uri": "https://localhost:8080/",
          "height": 34
        },
        "outputId": "86749068-6020-4d44-b1f6-62285854336e"
      },
      "source": [
        "print(df.shape)"
      ],
      "execution_count": 3,
      "outputs": [
        {
          "output_type": "stream",
          "text": [
            "(2326, 22)\n"
          ],
          "name": "stdout"
        }
      ]
    },
    {
      "cell_type": "code",
      "metadata": {
        "id": "plZHgaacpqRX",
        "colab_type": "code",
        "colab": {
          "base_uri": "https://localhost:8080/",
          "height": 384
        },
        "outputId": "55aaf403-f552-470a-ce12-5c56a566cd85"
      },
      "source": [
        "df.head()"
      ],
      "execution_count": 4,
      "outputs": [
        {
          "output_type": "execute_result",
          "data": {
            "text/html": [
              "<div>\n",
              "<style scoped>\n",
              "    .dataframe tbody tr th:only-of-type {\n",
              "        vertical-align: middle;\n",
              "    }\n",
              "\n",
              "    .dataframe tbody tr th {\n",
              "        vertical-align: top;\n",
              "    }\n",
              "\n",
              "    .dataframe thead th {\n",
              "        text-align: right;\n",
              "    }\n",
              "</style>\n",
              "<table border=\"1\" class=\"dataframe\">\n",
              "  <thead>\n",
              "    <tr style=\"text-align: right;\">\n",
              "      <th></th>\n",
              "      <th>Date</th>\n",
              "      <th>Time</th>\n",
              "      <th>Temp</th>\n",
              "      <th>pH</th>\n",
              "      <th>ORP</th>\n",
              "      <th>EC</th>\n",
              "      <th>RES</th>\n",
              "      <th>TDS</th>\n",
              "      <th>Salinity</th>\n",
              "      <th>Pressure</th>\n",
              "      <th>D.O.</th>\n",
              "      <th>Turbidity</th>\n",
              "      <th>QpH</th>\n",
              "      <th>QTur</th>\n",
              "      <th>QTDS</th>\n",
              "      <th>QDO</th>\n",
              "      <th>WpH</th>\n",
              "      <th>WTur</th>\n",
              "      <th>WTDS</th>\n",
              "      <th>WDO</th>\n",
              "      <th>WQI</th>\n",
              "      <th>Result</th>\n",
              "    </tr>\n",
              "  </thead>\n",
              "  <tbody>\n",
              "    <tr>\n",
              "      <th>0</th>\n",
              "      <td>17-02-2020</td>\n",
              "      <td>17:04:52</td>\n",
              "      <td>20.67</td>\n",
              "      <td>8.40</td>\n",
              "      <td>88.6</td>\n",
              "      <td>470</td>\n",
              "      <td>2128</td>\n",
              "      <td>306</td>\n",
              "      <td>0.23</td>\n",
              "      <td>14.568</td>\n",
              "      <td>101.5</td>\n",
              "      <td>36.7</td>\n",
              "      <td>65</td>\n",
              "      <td>47</td>\n",
              "      <td>55</td>\n",
              "      <td>95</td>\n",
              "      <td>16.575</td>\n",
              "      <td>9.165</td>\n",
              "      <td>9.625</td>\n",
              "      <td>35.625</td>\n",
              "      <td>70.990</td>\n",
              "      <td>4</td>\n",
              "    </tr>\n",
              "    <tr>\n",
              "      <th>1</th>\n",
              "      <td>17-02-2020</td>\n",
              "      <td>17:05:02</td>\n",
              "      <td>20.67</td>\n",
              "      <td>8.40</td>\n",
              "      <td>88.5</td>\n",
              "      <td>470</td>\n",
              "      <td>2128</td>\n",
              "      <td>305</td>\n",
              "      <td>0.23</td>\n",
              "      <td>14.569</td>\n",
              "      <td>101.4</td>\n",
              "      <td>42.4</td>\n",
              "      <td>65</td>\n",
              "      <td>38</td>\n",
              "      <td>55</td>\n",
              "      <td>95</td>\n",
              "      <td>16.575</td>\n",
              "      <td>7.410</td>\n",
              "      <td>9.625</td>\n",
              "      <td>35.625</td>\n",
              "      <td>69.235</td>\n",
              "      <td>3</td>\n",
              "    </tr>\n",
              "    <tr>\n",
              "      <th>2</th>\n",
              "      <td>17-02-2020</td>\n",
              "      <td>17:05:12</td>\n",
              "      <td>20.67</td>\n",
              "      <td>8.40</td>\n",
              "      <td>88.2</td>\n",
              "      <td>470</td>\n",
              "      <td>2128</td>\n",
              "      <td>305</td>\n",
              "      <td>0.23</td>\n",
              "      <td>14.569</td>\n",
              "      <td>101.5</td>\n",
              "      <td>38.2</td>\n",
              "      <td>65</td>\n",
              "      <td>47</td>\n",
              "      <td>55</td>\n",
              "      <td>95</td>\n",
              "      <td>16.575</td>\n",
              "      <td>9.165</td>\n",
              "      <td>9.625</td>\n",
              "      <td>35.625</td>\n",
              "      <td>70.990</td>\n",
              "      <td>4</td>\n",
              "    </tr>\n",
              "    <tr>\n",
              "      <th>3</th>\n",
              "      <td>17-02-2020</td>\n",
              "      <td>17:05:22</td>\n",
              "      <td>20.67</td>\n",
              "      <td>8.40</td>\n",
              "      <td>87.9</td>\n",
              "      <td>470</td>\n",
              "      <td>2128</td>\n",
              "      <td>305</td>\n",
              "      <td>0.23</td>\n",
              "      <td>14.567</td>\n",
              "      <td>101.7</td>\n",
              "      <td>38.0</td>\n",
              "      <td>65</td>\n",
              "      <td>47</td>\n",
              "      <td>55</td>\n",
              "      <td>95</td>\n",
              "      <td>16.575</td>\n",
              "      <td>9.165</td>\n",
              "      <td>9.625</td>\n",
              "      <td>35.625</td>\n",
              "      <td>70.990</td>\n",
              "      <td>4</td>\n",
              "    </tr>\n",
              "    <tr>\n",
              "      <th>4</th>\n",
              "      <td>17-02-2020</td>\n",
              "      <td>17:05:32</td>\n",
              "      <td>20.68</td>\n",
              "      <td>8.41</td>\n",
              "      <td>87.8</td>\n",
              "      <td>469</td>\n",
              "      <td>2132</td>\n",
              "      <td>305</td>\n",
              "      <td>0.23</td>\n",
              "      <td>14.566</td>\n",
              "      <td>101.7</td>\n",
              "      <td>46.8</td>\n",
              "      <td>65</td>\n",
              "      <td>38</td>\n",
              "      <td>55</td>\n",
              "      <td>95</td>\n",
              "      <td>16.575</td>\n",
              "      <td>7.410</td>\n",
              "      <td>9.625</td>\n",
              "      <td>35.625</td>\n",
              "      <td>69.235</td>\n",
              "      <td>3</td>\n",
              "    </tr>\n",
              "  </tbody>\n",
              "</table>\n",
              "</div>"
            ],
            "text/plain": [
              "         Date      Time   Temp   pH   ...   WTDS     WDO     WQI  Result\n",
              "0  17-02-2020  17:04:52  20.67  8.40  ...  9.625  35.625  70.990       4\n",
              "1  17-02-2020  17:05:02  20.67  8.40  ...  9.625  35.625  69.235       3\n",
              "2  17-02-2020  17:05:12  20.67  8.40  ...  9.625  35.625  70.990       4\n",
              "3  17-02-2020  17:05:22  20.67  8.40  ...  9.625  35.625  70.990       4\n",
              "4  17-02-2020  17:05:32  20.68  8.41  ...  9.625  35.625  69.235       3\n",
              "\n",
              "[5 rows x 22 columns]"
            ]
          },
          "metadata": {
            "tags": []
          },
          "execution_count": 4
        }
      ]
    },
    {
      "cell_type": "markdown",
      "metadata": {
        "id": "G3I4b7lKscKF",
        "colab_type": "text"
      },
      "source": [
        "#Splitting"
      ]
    },
    {
      "cell_type": "code",
      "metadata": {
        "id": "nlaAXAnDpsX3",
        "colab_type": "code",
        "colab": {}
      },
      "source": [
        "X = df.iloc[:,[3,7,10,11]]"
      ],
      "execution_count": 5,
      "outputs": []
    },
    {
      "cell_type": "code",
      "metadata": {
        "id": "srOSQVSApueZ",
        "colab_type": "code",
        "colab": {}
      },
      "source": [
        "Y=df['Result']"
      ],
      "execution_count": 6,
      "outputs": []
    },
    {
      "cell_type": "code",
      "metadata": {
        "id": "TxUxLfpJpxV1",
        "colab_type": "code",
        "colab": {}
      },
      "source": [
        "X_train, X_test, Y_train, Y_test = train_test_split(X, Y, test_size=0.33, random_state=45)\n",
        "\n",
        "X_train = X_train.values\n",
        "X_test = X_test.values\n",
        "\n",
        "Y_train = Y_train.values\n",
        "Y_test = Y_test.values"
      ],
      "execution_count": 7,
      "outputs": []
    },
    {
      "cell_type": "markdown",
      "metadata": {
        "id": "bt7zEaC4segf",
        "colab_type": "text"
      },
      "source": [
        "#Scaling"
      ]
    },
    {
      "cell_type": "code",
      "metadata": {
        "id": "371B7A__pzxo",
        "colab_type": "code",
        "colab": {}
      },
      "source": [
        "from sklearn.preprocessing import StandardScaler"
      ],
      "execution_count": 8,
      "outputs": []
    },
    {
      "cell_type": "code",
      "metadata": {
        "id": "Cg_dc6OZp5A4",
        "colab_type": "code",
        "colab": {}
      },
      "source": [
        "scaler = StandardScaler()\n",
        "scaler.fit(X_train)\n",
        "\n",
        "X_train = scaler.transform(X_train)\n",
        "X_test = scaler.transform(X_test)"
      ],
      "execution_count": 9,
      "outputs": []
    },
    {
      "cell_type": "markdown",
      "metadata": {
        "id": "HVFp_b6isgXc",
        "colab_type": "text"
      },
      "source": [
        "Model"
      ]
    },
    {
      "cell_type": "code",
      "metadata": {
        "id": "5FnjCijrp7Di",
        "colab_type": "code",
        "colab": {}
      },
      "source": [
        "from sklearn.ensemble import RandomForestRegressor\n",
        "from sklearn.ensemble import RandomForestClassifier\n",
        "from sklearn import metrics"
      ],
      "execution_count": 10,
      "outputs": []
    },
    {
      "cell_type": "code",
      "metadata": {
        "id": "By9OmXAap9jY",
        "colab_type": "code",
        "colab": {
          "base_uri": "https://localhost:8080/",
          "height": 141
        },
        "outputId": "4c92cfc6-d5f2-4ae3-f22f-366fe9c739a7"
      },
      "source": [
        "rfg = RandomForestRegressor(n_estimators=100, random_state = 42, max_features='sqrt')\n",
        "rfg.fit(X_train, Y_train)"
      ],
      "execution_count": 11,
      "outputs": [
        {
          "output_type": "execute_result",
          "data": {
            "text/plain": [
              "RandomForestRegressor(bootstrap=True, ccp_alpha=0.0, criterion='mse',\n",
              "                      max_depth=None, max_features='sqrt', max_leaf_nodes=None,\n",
              "                      max_samples=None, min_impurity_decrease=0.0,\n",
              "                      min_impurity_split=None, min_samples_leaf=1,\n",
              "                      min_samples_split=2, min_weight_fraction_leaf=0.0,\n",
              "                      n_estimators=100, n_jobs=None, oob_score=False,\n",
              "                      random_state=42, verbose=0, warm_start=False)"
            ]
          },
          "metadata": {
            "tags": []
          },
          "execution_count": 11
        }
      ]
    },
    {
      "cell_type": "code",
      "metadata": {
        "id": "RtWNNSHuqCCe",
        "colab_type": "code",
        "colab": {
          "base_uri": "https://localhost:8080/",
          "height": 87
        },
        "outputId": "4585aef1-01be-4b6b-e1a2-c1f55c4607d2"
      },
      "source": [
        "print('Training Data Shape:', X_train.shape)\n",
        "print('Training Labels Shape:', Y_train.shape)\n",
        "print('Testing Data Shape:', X_test.shape)\n",
        "print('Testing Labels Shape:', Y_test.shape)"
      ],
      "execution_count": 12,
      "outputs": [
        {
          "output_type": "stream",
          "text": [
            "Training Data Shape: (1558, 4)\n",
            "Training Labels Shape: (1558,)\n",
            "Testing Data Shape: (768, 4)\n",
            "Testing Labels Shape: (768,)\n"
          ],
          "name": "stdout"
        }
      ]
    },
    {
      "cell_type": "code",
      "metadata": {
        "id": "jF3xAwb1qEBi",
        "colab_type": "code",
        "colab": {}
      },
      "source": [
        "train_pred = rfg.predict(X_train)\n",
        "test_pred = rfg.predict(X_test)"
      ],
      "execution_count": 13,
      "outputs": []
    },
    {
      "cell_type": "markdown",
      "metadata": {
        "id": "p_d5UH5QsikB",
        "colab_type": "text"
      },
      "source": [
        "#Error"
      ]
    },
    {
      "cell_type": "code",
      "metadata": {
        "id": "Y-zKsZReqEuB",
        "colab_type": "code",
        "colab": {
          "base_uri": "https://localhost:8080/",
          "height": 70
        },
        "outputId": "cf475aa2-814e-46ea-c9f1-be159d22d3a8"
      },
      "source": [
        "print('Mean Absolute Error:', metrics.mean_absolute_error(Y_test, test_pred))\n",
        "print('Mean Squared Error:', metrics.mean_squared_error(Y_test, test_pred))\n",
        "print('Root Mean Squared Error:', np.sqrt(metrics.mean_squared_error(Y_test, test_pred)))"
      ],
      "execution_count": 14,
      "outputs": [
        {
          "output_type": "stream",
          "text": [
            "Mean Absolute Error: 0.011497395833333321\n",
            "Mean Squared Error: 0.003936588541666665\n",
            "Root Mean Squared Error: 0.06274223889587194\n"
          ],
          "name": "stdout"
        }
      ]
    },
    {
      "cell_type": "markdown",
      "metadata": {
        "id": "rxs5Od2EslJ5",
        "colab_type": "text"
      },
      "source": [
        "#Accuracy"
      ]
    },
    {
      "cell_type": "code",
      "metadata": {
        "id": "fBG6pGzgqIET",
        "colab_type": "code",
        "colab": {
          "base_uri": "https://localhost:8080/",
          "height": 87
        },
        "outputId": "b62d8f7a-2e55-4d2e-bf38-862597d912df"
      },
      "source": [
        "train_err = abs(train_pred - Y_train)\n",
        "test_err = abs(test_pred - Y_test)\n",
        "print('Train set : Mean Absolute Error:', round(np.mean(train_err), 2))\n",
        "print('Test set : Mean Absolute Error:', round(np.mean(test_err), 2))\n",
        "train_mse =100 * (train_err / Y_train)\n",
        "test_mse =100 * (test_err / Y_test)\n",
        "train_accuracy_rfg = 100 - np.mean(train_mse)\n",
        "test_accuracy_rfg = 100 - np.mean(test_mse)\n",
        "print('Train data Accuracy:', round(train_accuracy_rfg, 2), '%.')\n",
        "print('Test data Accuracy:', round(test_accuracy_rfg, 2), '%.')"
      ],
      "execution_count": 15,
      "outputs": [
        {
          "output_type": "stream",
          "text": [
            "Train set : Mean Absolute Error: 0.0\n",
            "Test set : Mean Absolute Error: 0.01\n",
            "Train data Accuracy: 99.87 %.\n",
            "Test data Accuracy: 99.65 %.\n"
          ],
          "name": "stdout"
        }
      ]
    },
    {
      "cell_type": "code",
      "metadata": {
        "id": "MVnVPrlrqJHb",
        "colab_type": "code",
        "colab": {}
      },
      "source": [
        "classifierx = RandomForestClassifier(n_estimators=300, random_state=0)"
      ],
      "execution_count": 16,
      "outputs": []
    },
    {
      "cell_type": "code",
      "metadata": {
        "id": "Zz6olAlYqLhA",
        "colab_type": "code",
        "colab": {}
      },
      "source": [
        "from sklearn.model_selection import cross_val_score"
      ],
      "execution_count": 17,
      "outputs": []
    },
    {
      "cell_type": "code",
      "metadata": {
        "id": "VwHYoE7JqNcV",
        "colab_type": "code",
        "colab": {
          "base_uri": "https://localhost:8080/",
          "height": 72
        },
        "outputId": "461a160d-0070-4900-d5d5-7906a516837e"
      },
      "source": [
        "all_accuracies = cross_val_score(estimator=classifierx, X=X_train, y=Y_train, cv=5)"
      ],
      "execution_count": 18,
      "outputs": [
        {
          "output_type": "stream",
          "text": [
            "/usr/local/lib/python3.6/dist-packages/sklearn/model_selection/_split.py:667: UserWarning: The least populated class in y has only 4 members, which is less than n_splits=5.\n",
            "  % (min_groups, self.n_splits)), UserWarning)\n"
          ],
          "name": "stderr"
        }
      ]
    },
    {
      "cell_type": "code",
      "metadata": {
        "id": "aJ9jrRXpqT2Y",
        "colab_type": "code",
        "colab": {
          "base_uri": "https://localhost:8080/",
          "height": 34
        },
        "outputId": "2a60c772-5df6-44c7-c7bf-93fecb99aef3"
      },
      "source": [
        "print(all_accuracies)"
      ],
      "execution_count": 19,
      "outputs": [
        {
          "output_type": "stream",
          "text": [
            "[0.98717949 0.99358974 0.99038462 0.99678457 0.99356913]\n"
          ],
          "name": "stdout"
        }
      ]
    },
    {
      "cell_type": "code",
      "metadata": {
        "id": "mPZH3DYbqVw8",
        "colab_type": "code",
        "colab": {
          "base_uri": "https://localhost:8080/",
          "height": 34
        },
        "outputId": "91b4cba4-34bb-4f2c-b073-d274dd760e90"
      },
      "source": [
        "print(all_accuracies.mean())"
      ],
      "execution_count": 20,
      "outputs": [
        {
          "output_type": "stream",
          "text": [
            "0.9923015087806084\n"
          ],
          "name": "stdout"
        }
      ]
    },
    {
      "cell_type": "code",
      "metadata": {
        "id": "z3tYyOp1qXuL",
        "colab_type": "code",
        "colab": {
          "base_uri": "https://localhost:8080/",
          "height": 34
        },
        "outputId": "d7a68161-5fd8-4c27-9927-6bde48052ff1"
      },
      "source": [
        "print(all_accuracies.std())"
      ],
      "execution_count": 21,
      "outputs": [
        {
          "output_type": "stream",
          "text": [
            "0.0032641631081372973\n"
          ],
          "name": "stdout"
        }
      ]
    },
    {
      "cell_type": "markdown",
      "metadata": {
        "id": "UdEqKbt7qrEw",
        "colab_type": "text"
      },
      "source": [
        "# **CROSS VALIDATION USING GRID (Random Forest)**"
      ]
    },
    {
      "cell_type": "markdown",
      "metadata": {
        "id": "703ttnr8qvy3",
        "colab_type": "text"
      },
      "source": [
        "GridSearch For Parameter Selection Round 1\n",
        "\n",
        "#For regressor"
      ]
    },
    {
      "cell_type": "code",
      "metadata": {
        "id": "cJ9V1JeCqsDy",
        "colab_type": "code",
        "colab": {}
      },
      "source": [
        "from sklearn.model_selection import GridSearchCV \n",
        "param_grid_1 = {'bootstrap': [True], 'max_depth': [15, 30, 45], 'max_features':[2, 5], 'min_samples_leaf': [3, 4, 5],\n",
        "              'min_samples_split': [8, 10, 12], 'n_estimators': [200, 300, 500]}\n",
        "rf = RandomForestRegressor()\n",
        "grid_search_1 = GridSearchCV(estimator = rf, param_grid = param_grid_1, cv = 3, n_jobs = -1, verbose = 2)"
      ],
      "execution_count": 22,
      "outputs": []
    },
    {
      "cell_type": "code",
      "metadata": {
        "id": "mPjM8exUqzB6",
        "colab_type": "code",
        "colab": {
          "base_uri": "https://localhost:8080/",
          "height": 496
        },
        "outputId": "00d8b7db-d8ca-4587-9e02-df4eb1c72d5b"
      },
      "source": [
        "grid_search_1.fit(X_train, Y_train)"
      ],
      "execution_count": 23,
      "outputs": [
        {
          "output_type": "stream",
          "text": [
            "Fitting 3 folds for each of 162 candidates, totalling 486 fits\n"
          ],
          "name": "stdout"
        },
        {
          "output_type": "stream",
          "text": [
            "[Parallel(n_jobs=-1)]: Using backend LokyBackend with 2 concurrent workers.\n",
            "[Parallel(n_jobs=-1)]: Done  37 tasks      | elapsed:   16.0s\n",
            "[Parallel(n_jobs=-1)]: Done 158 tasks      | elapsed:   42.8s\n",
            "[Parallel(n_jobs=-1)]: Done 361 tasks      | elapsed:  1.7min\n",
            "[Parallel(n_jobs=-1)]: Done 486 out of 486 | elapsed:  2.1min finished\n"
          ],
          "name": "stderr"
        },
        {
          "output_type": "execute_result",
          "data": {
            "text/plain": [
              "GridSearchCV(cv=3, error_score=nan,\n",
              "             estimator=RandomForestRegressor(bootstrap=True, ccp_alpha=0.0,\n",
              "                                             criterion='mse', max_depth=None,\n",
              "                                             max_features='auto',\n",
              "                                             max_leaf_nodes=None,\n",
              "                                             max_samples=None,\n",
              "                                             min_impurity_decrease=0.0,\n",
              "                                             min_impurity_split=None,\n",
              "                                             min_samples_leaf=1,\n",
              "                                             min_samples_split=2,\n",
              "                                             min_weight_fraction_leaf=0.0,\n",
              "                                             n_estimators=100, n_jobs=None,\n",
              "                                             oob_score=False, random_state=None,\n",
              "                                             verbose=0, warm_start=False),\n",
              "             iid='deprecated', n_jobs=-1,\n",
              "             param_grid={'bootstrap': [True], 'max_depth': [15, 30, 45],\n",
              "                         'max_features': [2, 5], 'min_samples_leaf': [3, 4, 5],\n",
              "                         'min_samples_split': [8, 10, 12],\n",
              "                         'n_estimators': [200, 300, 500]},\n",
              "             pre_dispatch='2*n_jobs', refit=True, return_train_score=False,\n",
              "             scoring=None, verbose=2)"
            ]
          },
          "metadata": {
            "tags": []
          },
          "execution_count": 23
        }
      ]
    },
    {
      "cell_type": "code",
      "metadata": {
        "id": "AQ7mBXFyq0-5",
        "colab_type": "code",
        "colab": {}
      },
      "source": [
        "def evaluate(model, X, y):\n",
        "    predictions = rfg.predict(X)\n",
        "    errors = abs(predictions - y)\n",
        "    mse = 100 * np.mean(errors / y)\n",
        "    accuracy = 100 - mse\n",
        "    #print('Model Performance')\n",
        "    print('Mean Square Error: {:0.4f}.'.format(np.mean(errors)))\n",
        "    print('Accuracy = {:0.2f}%.'.format(accuracy))\n",
        "    return accuracy"
      ],
      "execution_count": 24,
      "outputs": []
    },
    {
      "cell_type": "code",
      "metadata": {
        "id": "_3gioKbqq5Av",
        "colab_type": "code",
        "colab": {
          "base_uri": "https://localhost:8080/",
          "height": 141
        },
        "outputId": "cf01db1d-92a9-4069-a5e1-2fac2540b2b1"
      },
      "source": [
        "print('Grid_Search_CV Evaluation')\n",
        "best_grid_1 = grid_search_1.best_estimator_\n",
        "print('Model Performance - Train Data')\n",
        "train_grid_accuracy = evaluate(best_grid_1, X_train, Y_train)\n",
        "print('Model Performance - Test Data')\n",
        "test_grid_accuracy = evaluate(best_grid_1, X_test, Y_test)"
      ],
      "execution_count": 25,
      "outputs": [
        {
          "output_type": "stream",
          "text": [
            "Grid_Search_CV Evaluation\n",
            "Model Performance - Train Data\n",
            "Mean Square Error: 0.0039.\n",
            "Accuracy = 99.87%.\n",
            "Model Performance - Test Data\n",
            "Mean Square Error: 0.0115.\n",
            "Accuracy = 99.65%.\n"
          ],
          "name": "stdout"
        }
      ]
    },
    {
      "cell_type": "markdown",
      "metadata": {
        "id": "0YZlBxi1q9Ls",
        "colab_type": "text"
      },
      "source": [
        "GridSearch For Parameter Selection Round 2"
      ]
    },
    {
      "cell_type": "code",
      "metadata": {
        "id": "n9P3UuSTq5qQ",
        "colab_type": "code",
        "colab": {}
      },
      "source": [
        "from sklearn.model_selection import GridSearchCV \n",
        "param_grid = {'bootstrap': [True], 'max_depth': [10, 18, 30], 'max_features':[3, 5, 6], 'min_samples_leaf': [2, 6],\n",
        "              'min_samples_split': [7, 11, 18], 'n_estimators': [100, 170, 200]}\n",
        "rf = RandomForestRegressor(random_state = 20)\n",
        "grid_search = GridSearchCV(estimator = rf, param_grid = param_grid, cv = 2, n_jobs = -1, verbose = 1)"
      ],
      "execution_count": 26,
      "outputs": []
    },
    {
      "cell_type": "code",
      "metadata": {
        "id": "5bsENLkPrAJR",
        "colab_type": "code",
        "colab": {
          "base_uri": "https://localhost:8080/",
          "height": 478
        },
        "outputId": "03dd3d54-a012-439b-91b2-e0c818f54c00"
      },
      "source": [
        "grid_search.fit(X_train, Y_train)"
      ],
      "execution_count": 27,
      "outputs": [
        {
          "output_type": "stream",
          "text": [
            "Fitting 2 folds for each of 162 candidates, totalling 324 fits\n"
          ],
          "name": "stdout"
        },
        {
          "output_type": "stream",
          "text": [
            "[Parallel(n_jobs=-1)]: Using backend LokyBackend with 2 concurrent workers.\n",
            "[Parallel(n_jobs=-1)]: Done  46 tasks      | elapsed:    7.2s\n",
            "[Parallel(n_jobs=-1)]: Done 196 tasks      | elapsed:   20.1s\n",
            "[Parallel(n_jobs=-1)]: Done 324 out of 324 | elapsed:   31.9s finished\n"
          ],
          "name": "stderr"
        },
        {
          "output_type": "execute_result",
          "data": {
            "text/plain": [
              "GridSearchCV(cv=2, error_score=nan,\n",
              "             estimator=RandomForestRegressor(bootstrap=True, ccp_alpha=0.0,\n",
              "                                             criterion='mse', max_depth=None,\n",
              "                                             max_features='auto',\n",
              "                                             max_leaf_nodes=None,\n",
              "                                             max_samples=None,\n",
              "                                             min_impurity_decrease=0.0,\n",
              "                                             min_impurity_split=None,\n",
              "                                             min_samples_leaf=1,\n",
              "                                             min_samples_split=2,\n",
              "                                             min_weight_fraction_leaf=0.0,\n",
              "                                             n_estimators=100, n_jobs=None,\n",
              "                                             oob_score=False, random_state=20,\n",
              "                                             verbose=0, warm_start=False),\n",
              "             iid='deprecated', n_jobs=-1,\n",
              "             param_grid={'bootstrap': [True], 'max_depth': [10, 18, 30],\n",
              "                         'max_features': [3, 5, 6], 'min_samples_leaf': [2, 6],\n",
              "                         'min_samples_split': [7, 11, 18],\n",
              "                         'n_estimators': [100, 170, 200]},\n",
              "             pre_dispatch='2*n_jobs', refit=True, return_train_score=False,\n",
              "             scoring=None, verbose=1)"
            ]
          },
          "metadata": {
            "tags": []
          },
          "execution_count": 27
        }
      ]
    },
    {
      "cell_type": "code",
      "metadata": {
        "id": "MiT4m0EjrCOa",
        "colab_type": "code",
        "colab": {
          "base_uri": "https://localhost:8080/",
          "height": 141
        },
        "outputId": "b46675cb-390a-4e98-fc54-cd0d256fc3ab"
      },
      "source": [
        "print('Grid_Search_CV Evaluation')\n",
        "best_grid = grid_search.best_estimator_\n",
        "print('Model Performance - Train Data')\n",
        "train_grid_accuracyx = evaluate(best_grid, X_train, Y_train)\n",
        "print('Model Performance - Test Data')\n",
        "test_grid_accuracyx = evaluate(best_grid, X_test, Y_test)"
      ],
      "execution_count": 28,
      "outputs": [
        {
          "output_type": "stream",
          "text": [
            "Grid_Search_CV Evaluation\n",
            "Model Performance - Train Data\n",
            "Mean Square Error: 0.0039.\n",
            "Accuracy = 99.87%.\n",
            "Model Performance - Test Data\n",
            "Mean Square Error: 0.0115.\n",
            "Accuracy = 99.65%.\n"
          ],
          "name": "stdout"
        }
      ]
    },
    {
      "cell_type": "code",
      "metadata": {
        "id": "Aa3ihjAsrHeD",
        "colab_type": "code",
        "colab": {}
      },
      "source": [
        "def evaluate_model(model, x_train, y_train, x_test, y_test):\n",
        "    n_trees = model.get_params()['n_estimators']\n",
        "    n_features = x_train.shape[1]\n",
        "    \n",
        "    # Train and predict 10 times to evaluate time and accuracy\n",
        "    predictions = []\n",
        "    run_times = []\n",
        "    for _ in range(10):\n",
        "        start_time = time.time()\n",
        "        model.fit(x_train, y_train)\n",
        "        predictions.append(model.predict(x_test))\n",
        "    \n",
        "        end_time = time.time()\n",
        "        run_times.append(end_time - start_time)\n",
        "    \n",
        "    # Run time and predictions need to be averaged\n",
        "    run_time = np.mean(run_times)\n",
        "    predictions = np.mean(np.array(predictions), axis = 0)\n",
        "    \n",
        "    # Calculate performance metrics\n",
        "    errors = abs(predictions - y_test)\n",
        "    mean_error = np.mean(errors)\n",
        "    mape = 100 * np.mean(errors / y_test)\n",
        "    accuracy = 100 - mape\n",
        "    \n",
        "    # Return results in a dictionary\n",
        "    results = {'time': run_time, 'error': mean_error, 'accuracy': accuracy, 'n_trees': n_trees, 'n_features': n_features}\n",
        "    \n",
        "    return results"
      ],
      "execution_count": 29,
      "outputs": []
    },
    {
      "cell_type": "code",
      "metadata": {
        "id": "ATVFVgmlrIXI",
        "colab_type": "code",
        "colab": {}
      },
      "source": [
        "import time"
      ],
      "execution_count": 30,
      "outputs": []
    },
    {
      "cell_type": "code",
      "metadata": {
        "id": "731oS3utrKVJ",
        "colab_type": "code",
        "colab": {
          "base_uri": "https://localhost:8080/",
          "height": 123
        },
        "outputId": "4250acc1-5571-45dd-ef45-b2e8d346f0c6"
      },
      "source": [
        "grid_search1_results = evaluate_model(best_grid_1, X_train, Y_train, X_test, Y_test)\n",
        "grid_search1_results['model'] = 'best_grid_1'\n",
        "grid_search1_results"
      ],
      "execution_count": 31,
      "outputs": [
        {
          "output_type": "execute_result",
          "data": {
            "text/plain": [
              "{'accuracy': 99.52771941089166,\n",
              " 'error': 0.015673910314640254,\n",
              " 'model': 'best_grid_1',\n",
              " 'n_features': 4,\n",
              " 'n_trees': 500,\n",
              " 'time': 0.7808410167694092}"
            ]
          },
          "metadata": {
            "tags": []
          },
          "execution_count": 31
        }
      ]
    },
    {
      "cell_type": "code",
      "metadata": {
        "id": "XkwqHaEprMk8",
        "colab_type": "code",
        "colab": {
          "base_uri": "https://localhost:8080/",
          "height": 123
        },
        "outputId": "3da8e0dd-1f8e-4c63-ec43-ed6b69d25300"
      },
      "source": [
        "grid_search2_results = evaluate_model(best_grid, X_train, Y_train, X_test, Y_test)\n",
        "grid_search2_results['model'] = 'best_grid'\n",
        "grid_search2_results"
      ],
      "execution_count": 32,
      "outputs": [
        {
          "output_type": "execute_result",
          "data": {
            "text/plain": [
              "{'accuracy': 99.63944688900169,\n",
              " 'error': 0.011869534864135063,\n",
              " 'model': 'best_grid',\n",
              " 'n_features': 4,\n",
              " 'n_trees': 170,\n",
              " 'time': 0.2806452035903931}"
            ]
          },
          "metadata": {
            "tags": []
          },
          "execution_count": 32
        }
      ]
    },
    {
      "cell_type": "markdown",
      "metadata": {
        "id": "7mlFBKA7rR3c",
        "colab_type": "text"
      },
      "source": [
        "Comparison Between Both Models"
      ]
    },
    {
      "cell_type": "code",
      "metadata": {
        "id": "Qr-yQhM4rO2M",
        "colab_type": "code",
        "colab": {}
      },
      "source": [
        "comparison = {'model': [grid_search1_results['model'],grid_search2_results['model']], \n",
        "              'accuracy': [round(grid_search1_results['accuracy'], 3), round(grid_search2_results['accuracy'], 3)],\n",
        "              'error': [round(grid_search1_results['error'], 3), round(grid_search2_results['error'], 3)],\n",
        "              'n_features': [grid_search1_results['n_features'], grid_search2_results['n_features']],\n",
        "              'n_trees': [grid_search1_results['n_trees'],grid_search2_results['n_trees']],\n",
        "              'time': [round(grid_search1_results['time'], 4), round(grid_search2_results['time'], 4)]}"
      ],
      "execution_count": 33,
      "outputs": []
    },
    {
      "cell_type": "code",
      "metadata": {
        "id": "kFufjrU-raCA",
        "colab_type": "code",
        "colab": {}
      },
      "source": [
        "comparison = pd.DataFrame.from_dict(comparison, orient = 'columns')"
      ],
      "execution_count": 34,
      "outputs": []
    },
    {
      "cell_type": "code",
      "metadata": {
        "id": "C7HtB6xZrdTj",
        "colab_type": "code",
        "colab": {
          "base_uri": "https://localhost:8080/",
          "height": 107
        },
        "outputId": "bd4f4751-685d-4e46-9602-eb01905d9e1b"
      },
      "source": [
        "comparison[['model', 'accuracy', 'error', 'n_features', 'n_trees', 'time']]"
      ],
      "execution_count": 35,
      "outputs": [
        {
          "output_type": "execute_result",
          "data": {
            "text/html": [
              "<div>\n",
              "<style scoped>\n",
              "    .dataframe tbody tr th:only-of-type {\n",
              "        vertical-align: middle;\n",
              "    }\n",
              "\n",
              "    .dataframe tbody tr th {\n",
              "        vertical-align: top;\n",
              "    }\n",
              "\n",
              "    .dataframe thead th {\n",
              "        text-align: right;\n",
              "    }\n",
              "</style>\n",
              "<table border=\"1\" class=\"dataframe\">\n",
              "  <thead>\n",
              "    <tr style=\"text-align: right;\">\n",
              "      <th></th>\n",
              "      <th>model</th>\n",
              "      <th>accuracy</th>\n",
              "      <th>error</th>\n",
              "      <th>n_features</th>\n",
              "      <th>n_trees</th>\n",
              "      <th>time</th>\n",
              "    </tr>\n",
              "  </thead>\n",
              "  <tbody>\n",
              "    <tr>\n",
              "      <th>0</th>\n",
              "      <td>best_grid_1</td>\n",
              "      <td>99.528</td>\n",
              "      <td>0.016</td>\n",
              "      <td>4</td>\n",
              "      <td>500</td>\n",
              "      <td>0.7808</td>\n",
              "    </tr>\n",
              "    <tr>\n",
              "      <th>1</th>\n",
              "      <td>best_grid</td>\n",
              "      <td>99.639</td>\n",
              "      <td>0.012</td>\n",
              "      <td>4</td>\n",
              "      <td>170</td>\n",
              "      <td>0.2806</td>\n",
              "    </tr>\n",
              "  </tbody>\n",
              "</table>\n",
              "</div>"
            ],
            "text/plain": [
              "         model  accuracy  error  n_features  n_trees    time\n",
              "0  best_grid_1    99.528  0.016           4      500  0.7808\n",
              "1    best_grid    99.639  0.012           4      170  0.2806"
            ]
          },
          "metadata": {
            "tags": []
          },
          "execution_count": 35
        }
      ]
    },
    {
      "cell_type": "markdown",
      "metadata": {
        "id": "nf7-_ATvrkSv",
        "colab_type": "text"
      },
      "source": [
        "#Plotting Information Decoded from models"
      ]
    },
    {
      "cell_type": "code",
      "metadata": {
        "id": "53dnEcc0rfbc",
        "colab_type": "code",
        "colab": {
          "base_uri": "https://localhost:8080/",
          "height": 847
        },
        "outputId": "dae619ff-3606-4881-8730-6a97122686b5"
      },
      "source": [
        "xvalues = list(range(len(comparison)))\n",
        "plt.subplots(2, 2, figsize=(15, 6))\n",
        "plt.subplot(121)\n",
        "plt.bar(xvalues, comparison['accuracy'], color = 'g', edgecolor = 'k', linewidth = 1.8)\n",
        "plt.xticks(xvalues, comparison['model'], rotation = 45, fontsize = 12)\n",
        "plt.ylim(ymin = 91, ymax = 100)\n",
        "plt.xlabel('model'); plt.ylabel('Accuracy (%)'); plt.title('Accuracy Comparison');\n",
        "\n",
        "plt.subplot(122)\n",
        "plt.bar(xvalues, comparison['error'], color = 'r', edgecolor = 'k', linewidth = 1.8)\n",
        "plt.xticks(xvalues, comparison['model'], rotation = 45)\n",
        "plt.ylim(ymin = 0, ymax = 0.1)\n",
        "plt.xlabel('model'); plt.ylabel('Error (deg)'); plt.title('Error Comparison');\n",
        "plt.show();\n",
        "\n",
        "plt.subplot(221)\n",
        "plt.bar(xvalues, comparison['n_trees'], color = 'g', edgecolor = 'k', linewidth = 1.8)\n",
        "plt.xticks(xvalues, comparison['model'], rotation = 45)\n",
        "plt.ylim(ymin = 50, ymax = 500)\n",
        "plt.xlabel('model'); plt.ylabel('Num Trees'); plt.title('Num Trees Comparison');\n",
        "plt.show();\n",
        "\n",
        "plt.subplot(222)\n",
        "plt.bar(xvalues, comparison['time'], color = 'r', edgecolor = 'k', linewidth = 1.8)\n",
        "plt.xticks(xvalues, comparison['model'], rotation = 45)\n",
        "plt.ylim(ymin = 0, ymax = 1)\n",
        "plt.xlabel('model'); plt.ylabel('Time (sec)'); plt.title('Time Comparison');\n",
        "plt.show();"
      ],
      "execution_count": 36,
      "outputs": [
        {
          "output_type": "display_data",
          "data": {
            "image/png": "[encoded data removed]",
            "text/plain": [
              "<Figure size 1080x432 with 2 Axes>"
            ]
          },
          "metadata": {
            "tags": [],
            "needs_background": "light"
          }
        },
        {
          "output_type": "display_data",
          "data": {
            "image/png": "[encoded data removed]",
            "text/plain": [
              "<Figure size 432x288 with 1 Axes>"
            ]
          },
          "metadata": {
            "tags": [],
            "needs_background": "light"
          }
        },
        {
          "output_type": "display_data",
          "data": {
            "image/png": "[encoded data removed]",
            "text/plain": [
              "<Figure size 432x288 with 1 Axes>"
            ]
          },
          "metadata": {
            "tags": [],
            "needs_background": "light"
          }
        }
      ]
    },
    {
      "cell_type": "markdown",
      "metadata": {
        "id": "78rQrHVFrsf3",
        "colab_type": "text"
      },
      "source": [
        "Checking Models by implementing Best model found on Evaluation "
      ]
    },
    {
      "cell_type": "code",
      "metadata": {
        "id": "QYMOcN5Lrpv4",
        "colab_type": "code",
        "colab": {}
      },
      "source": [
        "tree_grid = {'n_estimators': [int(x) for x in np.linspace(1, 301, 30)]}"
      ],
      "execution_count": 37,
      "outputs": []
    },
    {
      "cell_type": "code",
      "metadata": {
        "id": "ahwn2MmprvKU",
        "colab_type": "code",
        "colab": {
          "base_uri": "https://localhost:8080/",
          "height": 87
        },
        "outputId": "82f1f05b-b45b-43b6-d9cf-f37b5557da82"
      },
      "source": [
        "tree_grid_search = GridSearchCV(best_grid, param_grid=tree_grid, verbose = 2, n_jobs=-1, cv = 3,\n",
        "                                scoring = 'neg_mean_absolute_error')\n",
        "tree_grid_search.fit(X_train, Y_train);"
      ],
      "execution_count": 38,
      "outputs": [
        {
          "output_type": "stream",
          "text": [
            "Fitting 3 folds for each of 30 candidates, totalling 90 fits\n"
          ],
          "name": "stdout"
        },
        {
          "output_type": "stream",
          "text": [
            "[Parallel(n_jobs=-1)]: Using backend LokyBackend with 2 concurrent workers.\n",
            "[Parallel(n_jobs=-1)]: Done  83 tasks      | elapsed:   14.8s\n",
            "[Parallel(n_jobs=-1)]: Done  90 out of  90 | elapsed:   17.1s finished\n"
          ],
          "name": "stderr"
        }
      ]
    },
    {
      "cell_type": "code",
      "metadata": {
        "id": "ciSF8YXrrx5i",
        "colab_type": "code",
        "colab": {
          "base_uri": "https://localhost:8080/",
          "height": 1000
        },
        "outputId": "df4a2306-935b-4ee2-cdd2-c35b66695234"
      },
      "source": [
        "tree_grid_search.cv_results_"
      ],
      "execution_count": 39,
      "outputs": [
        {
          "output_type": "execute_result",
          "data": {
            "text/plain": [
              "{'mean_fit_time': array([0.00398167, 0.0270404 , 0.04959019, 0.07809933, 0.10005474,\n",
              "        0.12656387, 0.14822364, 0.1843013 , 0.2110827 , 0.22653731,\n",
              "        0.24266529, 0.27350632, 0.29960004, 0.32534814, 0.34372632,\n",
              "        0.36607607, 0.39150731, 0.41592749, 0.44559248, 0.47540029,\n",
              "        0.48357113, 0.51046173, 0.53281506, 0.5622921 , 0.59714659,\n",
              "        0.62130793, 0.63218196, 0.66459457, 0.68141055, 0.69339848]),\n",
              " 'mean_score_time': array([0.00083931, 0.00210985, 0.00323057, 0.00450071, 0.00588393,\n",
              "        0.00708691, 0.00776903, 0.00886703, 0.01618155, 0.0111692 ,\n",
              "        0.01234587, 0.01320243, 0.01456006, 0.01563478, 0.0168949 ,\n",
              "        0.01896803, 0.01884699, 0.02339753, 0.02221052, 0.02254454,\n",
              "        0.02461958, 0.02494033, 0.02572091, 0.02876075, 0.02945685,\n",
              "        0.03677718, 0.03172231, 0.03304513, 0.0341537 , 0.02930975]),\n",
              " 'mean_test_score': array([-0.01046532, -0.01120307, -0.0114895 , -0.01131461, -0.01108857,\n",
              "        -0.01088576, -0.01072177, -0.01065662, -0.01081892, -0.01073391,\n",
              "        -0.01079743, -0.01084555, -0.01087688, -0.01088204, -0.01081654,\n",
              "        -0.01083038, -0.01090411, -0.01090498, -0.01090369, -0.01094999,\n",
              "        -0.01092961, -0.01090824, -0.01086408, -0.01086131, -0.01085253,\n",
              "        -0.01086024, -0.01086107, -0.01089051, -0.01089492, -0.01087557]),\n",
              " 'param_n_estimators': masked_array(data=[1, 11, 21, 32, 42, 52, 63, 73, 83, 94, 104, 114, 125,\n",
              "                    135, 145, 156, 166, 176, 187, 197, 207, 218, 228, 238,\n",
              "                    249, 259, 269, 280, 290, 301],\n",
              "              mask=[False, False, False, False, False, False, False, False,\n",
              "                    False, False, False, False, False, False, False, False,\n",
              "                    False, False, False, False, False, False, False, False,\n",
              "                    False, False, False, False, False, False],\n",
              "        fill_value='?',\n",
              "             dtype=object),\n",
              " 'params': [{'n_estimators': 1},\n",
              "  {'n_estimators': 11},\n",
              "  {'n_estimators': 21},\n",
              "  {'n_estimators': 32},\n",
              "  {'n_estimators': 42},\n",
              "  {'n_estimators': 52},\n",
              "  {'n_estimators': 63},\n",
              "  {'n_estimators': 73},\n",
              "  {'n_estimators': 83},\n",
              "  {'n_estimators': 94},\n",
              "  {'n_estimators': 104},\n",
              "  {'n_estimators': 114},\n",
              "  {'n_estimators': 125},\n",
              "  {'n_estimators': 135},\n",
              "  {'n_estimators': 145},\n",
              "  {'n_estimators': 156},\n",
              "  {'n_estimators': 166},\n",
              "  {'n_estimators': 176},\n",
              "  {'n_estimators': 187},\n",
              "  {'n_estimators': 197},\n",
              "  {'n_estimators': 207},\n",
              "  {'n_estimators': 218},\n",
              "  {'n_estimators': 228},\n",
              "  {'n_estimators': 238},\n",
              "  {'n_estimators': 249},\n",
              "  {'n_estimators': 259},\n",
              "  {'n_estimators': 269},\n",
              "  {'n_estimators': 280},\n",
              "  {'n_estimators': 290},\n",
              "  {'n_estimators': 301}],\n",
              " 'rank_test_score': array([ 1, 28, 30, 29, 27, 18,  3,  2,  7,  4,  5,  9, 16, 17,  6,  8, 22,\n",
              "        23, 21, 26, 25, 24, 14, 13, 10, 11, 12, 19, 20, 15], dtype=int32),\n",
              " 'split0_test_score': array([-0.01025641, -0.01283924, -0.01298753, -0.01234752, -0.01187543,\n",
              "        -0.01179729, -0.01168639, -0.01152406, -0.01192823, -0.01183337,\n",
              "        -0.01190718, -0.01189986, -0.01199252, -0.0119453 , -0.01193884,\n",
              "        -0.01189238, -0.01201283, -0.0119423 , -0.01188678, -0.01185212,\n",
              "        -0.01187707, -0.01189091, -0.01178153, -0.0118098 , -0.01171148,\n",
              "        -0.01168387, -0.0116266 , -0.01166262, -0.01162913, -0.01162753]),\n",
              " 'split1_test_score': array([-0.01054225, -0.01193889, -0.01263109, -0.01268862, -0.01267606,\n",
              "        -0.01237164, -0.0122459 , -0.01206926, -0.01206455, -0.01190925,\n",
              "        -0.01191221, -0.0119956 , -0.01201668, -0.01202572, -0.01191284,\n",
              "        -0.01196263, -0.01204643, -0.01206713, -0.01211095, -0.01220062,\n",
              "        -0.01220092, -0.0121155 , -0.01207514, -0.01206066, -0.01214543,\n",
              "        -0.01217931, -0.01220799, -0.01226413, -0.01228854, -0.01226947]),\n",
              " 'split2_test_score': array([-0.0105973 , -0.00883109, -0.00884987, -0.00890769, -0.00871421,\n",
              "        -0.00848834, -0.00823304, -0.00837655, -0.00846398, -0.00845911,\n",
              "        -0.00857291, -0.00864119, -0.00862144, -0.00867511, -0.00859794,\n",
              "        -0.00863612, -0.00865307, -0.00870551, -0.00871334, -0.00879723,\n",
              "        -0.00871084, -0.00871831, -0.00873558, -0.00871349, -0.00870069,\n",
              "        -0.00871755, -0.00874862, -0.00874479, -0.0087671 , -0.0087297 ]),\n",
              " 'std_fit_time': array([0.00158401, 0.00049337, 0.00063725, 0.00168859, 0.00162269,\n",
              "        0.0061831 , 0.00149816, 0.01124355, 0.0094164 , 0.00207944,\n",
              "        0.00082667, 0.00546748, 0.01131255, 0.01285084, 0.00791307,\n",
              "        0.00343331, 0.00642482, 0.0031247 , 0.00842569, 0.00718757,\n",
              "        0.00351229, 0.00302287, 0.0003418 , 0.00952088, 0.00909765,\n",
              "        0.01454297, 0.00859141, 0.00767957, 0.00624675, 0.0236496 ]),\n",
              " 'std_score_time': array([2.14378684e-04, 4.68500428e-05, 7.55722964e-05, 2.11975109e-04,\n",
              "        2.97320555e-04, 6.44548812e-04, 1.57047018e-04, 2.67755069e-04,\n",
              "        4.22969666e-03, 1.94599809e-05, 3.20045978e-04, 1.90072499e-04,\n",
              "        6.14282537e-05, 4.08298528e-04, 5.17715769e-04, 5.87667262e-04,\n",
              "        1.96395848e-04, 3.97493666e-03, 6.35165034e-04, 5.44096353e-04,\n",
              "        3.75745311e-04, 8.13455550e-04, 6.68599732e-04, 5.49609120e-04,\n",
              "        1.52304092e-03, 9.58492911e-03, 1.67533098e-03, 1.49806109e-04,\n",
              "        1.13556175e-03, 7.51111668e-03]),\n",
              " 'std_test_score': array([0.00014942, 0.00171705, 0.00187216, 0.00170763, 0.00171044,\n",
              "        0.00171137, 0.00177456, 0.00162755, 0.00166612, 0.00160882,\n",
              "        0.00157298, 0.00155921, 0.00159487, 0.00156088, 0.00156882,\n",
              "        0.00155184, 0.00159178, 0.0015561 , 0.00155151, 0.00152886,\n",
              "        0.00157447, 0.00155123, 0.00150985, 0.00152219, 0.00153186,\n",
              "        0.00152855, 0.00151247, 0.001537  , 0.00152849, 0.00153982])}"
            ]
          },
          "metadata": {
            "tags": []
          },
          "execution_count": 39
        }
      ]
    },
    {
      "cell_type": "markdown",
      "metadata": {
        "id": "cFznzzVkr3cm",
        "colab_type": "text"
      },
      "source": [
        "Implementation of best grid"
      ]
    },
    {
      "cell_type": "code",
      "metadata": {
        "id": "qnzMVR7wrz54",
        "colab_type": "code",
        "colab": {
          "base_uri": "https://localhost:8080/",
          "height": 141
        },
        "outputId": "39b1481e-f75a-4c45-a623-fd1d05cf2d98"
      },
      "source": [
        "print('New Grid_Search_CV Evaluation')\n",
        "best_grid_new = grid_search.best_estimator_\n",
        "print('New Model Performance - Train Data')\n",
        "X_train_grid_accuracy = evaluate(best_grid_new, X_train, Y_train)\n",
        "print('New Model Performance - Test Data')\n",
        "X_test_grid_accuracy = evaluate(best_grid, X_test, Y_test)"
      ],
      "execution_count": 40,
      "outputs": [
        {
          "output_type": "stream",
          "text": [
            "New Grid_Search_CV Evaluation\n",
            "New Model Performance - Train Data\n",
            "Mean Square Error: 0.0039.\n",
            "Accuracy = 99.87%.\n",
            "New Model Performance - Test Data\n",
            "Mean Square Error: 0.0115.\n",
            "Accuracy = 99.65%.\n"
          ],
          "name": "stdout"
        }
      ]
    },
    {
      "cell_type": "code",
      "metadata": {
        "id": "fxjSveO1sCP7",
        "colab_type": "code",
        "colab": {}
      },
      "source": [
        "def plot_results_grid(model, param = 'n_estimators', name = 'Num Trees'):\n",
        "    param_name = 'param_%s' % param\n",
        "\n",
        "    # Extract information from the cross validation model\n",
        "    train_scores = model.cv_results_['mean_score_time']\n",
        "    test_scores = model.cv_results_['mean_test_score']\n",
        "    train_time = model.cv_results_['mean_fit_time']\n",
        "    param_values = list(model.cv_results_[param_name])\n",
        "    \n",
        "    # Plot the scores over the parameter\n",
        "    plt.subplots(1, 2, figsize=(10, 6))\n",
        "    plt.subplot(121)\n",
        "    plt.plot(param_values, train_scores, 'bo-', label = 'train')\n",
        "    plt.plot(param_values, test_scores, 'go-', label = 'test')\n",
        "    plt.ylim(ymin = -8, ymax = 3)\n",
        "    plt.legend()\n",
        "    plt.xlabel(name)\n",
        "    plt.ylabel('Neg Mean Absolute Error')\n",
        "    plt.title('Score vs %s' % name)\n",
        "    \n",
        "    plt.subplot(122)\n",
        "    plt.plot(param_values, train_time, 'ro-')\n",
        "    plt.ylim(ymin = 0.0, ymax = 3.0)\n",
        "    plt.xlabel(name)\n",
        "    plt.ylabel('Train Time (sec)')\n",
        "    plt.title('Training Time vs %s' % name)\n",
        "    \n",
        "    \n",
        "    plt.tight_layout(pad = 4)"
      ],
      "execution_count": 41,
      "outputs": []
    },
    {
      "cell_type": "code",
      "metadata": {
        "id": "xWElc-ZksF_N",
        "colab_type": "code",
        "colab": {
          "base_uri": "https://localhost:8080/",
          "height": 383
        },
        "outputId": "5fe08380-8ef4-4d09-cf7f-deebe0f5d876"
      },
      "source": [
        "plot_results_grid(tree_grid_search)"
      ],
      "execution_count": 42,
      "outputs": [
        {
          "output_type": "display_data",
          "data": {
            "image/png": "[encoded data removed]",
            "text/plain": [
              "<Figure size 720x432 with 2 Axes>"
            ]
          },
          "metadata": {
            "tags": [],
            "needs_background": "light"
          }
        }
      ]
    },
    {
      "cell_type": "code",
      "metadata": {
        "id": "sBAl-SJ2sIIJ",
        "colab_type": "code",
        "colab": {}
      },
      "source": [
        "NumberOfTrees = ['300', '170']\n",
        "Accuracy = ['99.534', '99.639']\n",
        "error = ['0.015', '0.012']\n",
        "Models = ['GridsearchCV1', 'GridsearchCV2']"
      ],
      "execution_count": 43,
      "outputs": []
    },
    {
      "cell_type": "code",
      "metadata": {
        "id": "vW2Scj_CsKaN",
        "colab_type": "code",
        "colab": {
          "base_uri": "https://localhost:8080/",
          "height": 294
        },
        "outputId": "bf684408-f7a5-445a-d978-f64f9cfadc7f"
      },
      "source": [
        "x1 = Models \n",
        "y1 = NumberOfTrees\n",
        "# plotting the line 1 points  \n",
        "plt.plot(x1, y1, label = \"NumberOfTrees\") \n",
        "\n",
        "x2 = Models  \n",
        "y2 = Accuracy\n",
        "# plotting the line 2 points  \n",
        "plt.plot(x2, y2, label = \"Accuracy\") \n",
        "\n",
        "x3 = Models  \n",
        "y3 = error\n",
        "# plotting the line 2 points  \n",
        "plt.plot(x3, y3, label = \"Error\")\n",
        "\n",
        "# naming the x axis \n",
        "plt.xlabel('x - axis') \n",
        "# naming the y axis \n",
        "plt.ylabel('y - axis') \n",
        "# giving a title to my graph \n",
        "plt.title('Model Performance Graph') \n",
        "  \n",
        "# show a legend on the plot \n",
        "plt.legend() \n",
        "  \n",
        "# function to show the plot \n",
        "plt.show()"
      ],
      "execution_count": 44,
      "outputs": [
        {
          "output_type": "display_data",
          "data": {
            "image/png": "[encoded data removed]",
            "text/plain": [
              "<Figure size 432x288 with 1 Axes>"
            ]
          },
          "metadata": {
            "tags": [],
            "needs_background": "light"
          }
        }
      ]
    }
  ]
}