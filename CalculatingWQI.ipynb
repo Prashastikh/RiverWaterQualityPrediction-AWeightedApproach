{
  "nbformat": 4,
  "nbformat_minor": 0,
  "metadata": {
    "colab": {
      "name": "Untitled1.ipynb",
      "provenance": [],
      "toc_visible": true
    },
    "kernelspec": {
      "name": "python3",
      "display_name": "Python 3"
    }
  },
  "cells": [
    {
      "cell_type": "markdown",
      "metadata": {
        "id": "7oCpX2WAJtNC",
        "colab_type": "text"
      },
      "source": [
        "#Importing Libraries\n"
      ]
    },
    {
      "cell_type": "code",
      "metadata": {
        "id": "r4lieqqlJoGQ",
        "colab_type": "code",
        "colab": {}
      },
      "source": [
        "import pandas as pd\n",
        "import numpy as np\n",
        "import matplotlib.pyplot as plt\n",
        "from sklearn.metrics import accuracy_score\n",
        "from sklearn.metrics import mean_absolute_error"
      ],
      "execution_count": 1,
      "outputs": []
    },
    {
      "cell_type": "markdown",
      "metadata": {
        "id": "Kq6QD-NzJz9V",
        "colab_type": "text"
      },
      "source": [
        "#Importing Dataset"
      ]
    },
    {
      "cell_type": "code",
      "metadata": {
        "id": "rtW3otd1JwX7",
        "colab_type": "code",
        "colab": {}
      },
      "source": [
        "df = pd.read_csv('GangaRiverData.csv')"
      ],
      "execution_count": 2,
      "outputs": []
    },
    {
      "cell_type": "code",
      "metadata": {
        "id": "6xFmsgDDJ9_v",
        "colab_type": "code",
        "colab": {
          "base_uri": "https://localhost:8080/",
          "height": 34
        },
        "outputId": "570bf2a2-ef86-4704-f425-3537a79d1760"
      },
      "source": [
        "print(df.shape)"
      ],
      "execution_count": 3,
      "outputs": [
        {
          "output_type": "stream",
          "text": [
            "(2326, 12)\n"
          ],
          "name": "stdout"
        }
      ]
    },
    {
      "cell_type": "code",
      "metadata": {
        "id": "bje0KB1-J-Wb",
        "colab_type": "code",
        "colab": {
          "base_uri": "https://localhost:8080/",
          "height": 197
        },
        "outputId": "3b9f3937-8658-4c39-daa3-1e0cfd6e628f"
      },
      "source": [
        "df.head()"
      ],
      "execution_count": 4,
      "outputs": [
        {
          "output_type": "execute_result",
          "data": {
            "text/html": [
              "<div>\n",
              "<style scoped>\n",
              "    .dataframe tbody tr th:only-of-type {\n",
              "        vertical-align: middle;\n",
              "    }\n",
              "\n",
              "    .dataframe tbody tr th {\n",
              "        vertical-align: top;\n",
              "    }\n",
              "\n",
              "    .dataframe thead th {\n",
              "        text-align: right;\n",
              "    }\n",
              "</style>\n",
              "<table border=\"1\" class=\"dataframe\">\n",
              "  <thead>\n",
              "    <tr style=\"text-align: right;\">\n",
              "      <th></th>\n",
              "      <th>Date</th>\n",
              "      <th>Time</th>\n",
              "      <th>Temp</th>\n",
              "      <th>pH</th>\n",
              "      <th>ORP</th>\n",
              "      <th>EC</th>\n",
              "      <th>RES</th>\n",
              "      <th>TDS</th>\n",
              "      <th>Salinity</th>\n",
              "      <th>Pressure</th>\n",
              "      <th>D.O.</th>\n",
              "      <th>Turbidity</th>\n",
              "    </tr>\n",
              "  </thead>\n",
              "  <tbody>\n",
              "    <tr>\n",
              "      <th>0</th>\n",
              "      <td>17-02-2020</td>\n",
              "      <td>17:04:52</td>\n",
              "      <td>20.67</td>\n",
              "      <td>8.40</td>\n",
              "      <td>88.6</td>\n",
              "      <td>470</td>\n",
              "      <td>2128</td>\n",
              "      <td>306</td>\n",
              "      <td>0.23</td>\n",
              "      <td>14.568</td>\n",
              "      <td>101.5</td>\n",
              "      <td>36.7</td>\n",
              "    </tr>\n",
              "    <tr>\n",
              "      <th>1</th>\n",
              "      <td>17-02-2020</td>\n",
              "      <td>17:05:02</td>\n",
              "      <td>20.67</td>\n",
              "      <td>8.40</td>\n",
              "      <td>88.5</td>\n",
              "      <td>470</td>\n",
              "      <td>2128</td>\n",
              "      <td>305</td>\n",
              "      <td>0.23</td>\n",
              "      <td>14.569</td>\n",
              "      <td>101.4</td>\n",
              "      <td>42.4</td>\n",
              "    </tr>\n",
              "    <tr>\n",
              "      <th>2</th>\n",
              "      <td>17-02-2020</td>\n",
              "      <td>17:05:12</td>\n",
              "      <td>20.67</td>\n",
              "      <td>8.40</td>\n",
              "      <td>88.2</td>\n",
              "      <td>470</td>\n",
              "      <td>2128</td>\n",
              "      <td>305</td>\n",
              "      <td>0.23</td>\n",
              "      <td>14.569</td>\n",
              "      <td>101.5</td>\n",
              "      <td>38.2</td>\n",
              "    </tr>\n",
              "    <tr>\n",
              "      <th>3</th>\n",
              "      <td>17-02-2020</td>\n",
              "      <td>17:05:22</td>\n",
              "      <td>20.67</td>\n",
              "      <td>8.40</td>\n",
              "      <td>87.9</td>\n",
              "      <td>470</td>\n",
              "      <td>2128</td>\n",
              "      <td>305</td>\n",
              "      <td>0.23</td>\n",
              "      <td>14.567</td>\n",
              "      <td>101.7</td>\n",
              "      <td>38.0</td>\n",
              "    </tr>\n",
              "    <tr>\n",
              "      <th>4</th>\n",
              "      <td>17-02-2020</td>\n",
              "      <td>17:05:32</td>\n",
              "      <td>20.68</td>\n",
              "      <td>8.41</td>\n",
              "      <td>87.8</td>\n",
              "      <td>469</td>\n",
              "      <td>2132</td>\n",
              "      <td>305</td>\n",
              "      <td>0.23</td>\n",
              "      <td>14.566</td>\n",
              "      <td>101.7</td>\n",
              "      <td>46.8</td>\n",
              "    </tr>\n",
              "  </tbody>\n",
              "</table>\n",
              "</div>"
            ],
            "text/plain": [
              "         Date      Time   Temp   pH   ...  Salinity  Pressure   D.O.  Turbidity\n",
              "0  17-02-2020  17:04:52  20.67  8.40  ...      0.23    14.568  101.5       36.7\n",
              "1  17-02-2020  17:05:02  20.67  8.40  ...      0.23    14.569  101.4       42.4\n",
              "2  17-02-2020  17:05:12  20.67  8.40  ...      0.23    14.569  101.5       38.2\n",
              "3  17-02-2020  17:05:22  20.67  8.40  ...      0.23    14.567  101.7       38.0\n",
              "4  17-02-2020  17:05:32  20.68  8.41  ...      0.23    14.566  101.7       46.8\n",
              "\n",
              "[5 rows x 12 columns]"
            ]
          },
          "metadata": {
            "tags": []
          },
          "execution_count": 4
        }
      ]
    },
    {
      "cell_type": "markdown",
      "metadata": {
        "id": "MUHyJys6KlI9",
        "colab_type": "text"
      },
      "source": [
        "Pre-Processing"
      ]
    },
    {
      "cell_type": "code",
      "metadata": {
        "id": "HS3fBiDbKATz",
        "colab_type": "code",
        "colab": {}
      },
      "source": [
        "mean1 = df['Temp'].mean()\n",
        "mean2 = df['pH '].mean()\n",
        "mean3 = df['ORP'].mean()\n",
        "mean4 = df['EC'].mean()\n",
        "mean5 = df['RES'].mean()\n",
        "mean6 = df['TDS'].mean()\n",
        "mean7 = df['Salinity'].mean()\n",
        "mean8 = df['Pressure'].mean()\n",
        "mean9 = df['D.O.'].mean()\n",
        "mean10 = df['Turbidity'].mean()"
      ],
      "execution_count": 5,
      "outputs": []
    },
    {
      "cell_type": "code",
      "metadata": {
        "id": "LS_3_6PZKtz4",
        "colab_type": "code",
        "colab": {
          "base_uri": "https://localhost:8080/",
          "height": 54
        },
        "outputId": "7a9dafbe-f35b-4122-d31c-46e30ef50b39"
      },
      "source": [
        "print(mean1 , mean2 , mean3 , mean4 , mean5 , mean6 , mean7, mean8 , mean9 , mean10)"
      ],
      "execution_count": 6,
      "outputs": [
        {
          "output_type": "stream",
          "text": [
            "20.34573946689606 8.964535683576928 171.77016337059337 444.8619948409286 2254.341788478074 289.15606190885643 0.21481943250215962 14.606068357695635 122.16883061048999 16.95275150472917\n"
          ],
          "name": "stdout"
        }
      ]
    },
    {
      "cell_type": "code",
      "metadata": {
        "id": "Ap2MJ5l9KxD_",
        "colab_type": "code",
        "colab": {}
      },
      "source": [
        "Mean = df['pH '].mean()\n",
        "Median = df['pH '].median()\n",
        "Mode = df['pH '].mode()"
      ],
      "execution_count": 7,
      "outputs": []
    },
    {
      "cell_type": "code",
      "metadata": {
        "id": "DYKF4j_5Kx8y",
        "colab_type": "code",
        "colab": {
          "base_uri": "https://localhost:8080/",
          "height": 87
        },
        "outputId": "1d0f8d50-79f8-4c51-beab-adfd2614ce5e"
      },
      "source": [
        "print(Mean)\n",
        "print(Median)\n",
        "print(Mode)"
      ],
      "execution_count": 8,
      "outputs": [
        {
          "output_type": "stream",
          "text": [
            "8.964535683576928\n",
            "9.0\n",
            "0    9.01\n",
            "dtype: float64\n"
          ],
          "name": "stdout"
        }
      ]
    },
    {
      "cell_type": "code",
      "metadata": {
        "id": "oo9xDop2K2IU",
        "colab_type": "code",
        "colab": {}
      },
      "source": [
        "maxph = df['pH '].max()\n",
        "minph = df['pH '].min()\n",
        "maxt = df['Turbidity'].max()\n",
        "mint = df['Turbidity'].min()\n",
        "maxtds = df['TDS'].max()\n",
        "mintds = df['TDS'].min()\n",
        "maxsal = df['Salinity'].max()\n",
        "minsal = df['Salinity'].min()\n",
        "maxdo = df['D.O.'].max()\n",
        "mindo = df['D.O.'].min()"
      ],
      "execution_count": 9,
      "outputs": []
    },
    {
      "cell_type": "code",
      "metadata": {
        "id": "aGpx7IbLK4ry",
        "colab_type": "code",
        "colab": {
          "base_uri": "https://localhost:8080/",
          "height": 34
        },
        "outputId": "62819f3c-12e7-4746-e34e-89d31fe73b1b"
      },
      "source": [
        "print(maxph , minph , maxt , mint , maxtds , mintds , maxsal , minsal , maxdo , mindo)"
      ],
      "execution_count": 10,
      "outputs": [
        {
          "output_type": "stream",
          "text": [
            "9.27 6.96 1000.0 10.1 612 240 0.46 0.18 154.5 52.5\n"
          ],
          "name": "stdout"
        }
      ]
    },
    {
      "cell_type": "code",
      "metadata": {
        "id": "NYWwwgUfK6-3",
        "colab_type": "code",
        "colab": {}
      },
      "source": [
        "df.insert(12, 'QpH',df['pH '])\n",
        "df.insert(13, 'QTur',df['Turbidity'])\n",
        "df.insert(14, 'QTDS',df['TDS'])\n",
        "df.insert(15, 'QDO',df['D.O.'])"
      ],
      "execution_count": 11,
      "outputs": []
    },
    {
      "cell_type": "code",
      "metadata": {
        "id": "ueovKSU1K_va",
        "colab_type": "code",
        "colab": {}
      },
      "source": [
        "df['QpH']=df['QpH'].apply(lambda x: (10 if (4>=x>=2) \n",
        "                                 else(18 if  (5>=x>=4) \n",
        "                                     else(42 if  (6>=x>=5) \n",
        "                                         else(75 if  (7>=x>=6)  \n",
        "                                             else(100 if  (8>=x>=7)\n",
        "                                                 else(65 if  (9>=x>=8)\n",
        "                                                     else(35 if  (10>=x>=9) \n",
        "                                                         else(15 if  (11>=x>=10)\n",
        "                                                             else(5 if  (12>=x>=11)\n",
        "                                                                 else 0))))))))))"
      ],
      "execution_count": 12,
      "outputs": []
    },
    {
      "cell_type": "code",
      "metadata": {
        "id": "lgt8QMWTLBb_",
        "colab_type": "code",
        "colab": {
          "base_uri": "https://localhost:8080/",
          "height": 70
        },
        "outputId": "9406fb98-2b47-44a5-a607-d3b38d3a8b9d"
      },
      "source": [
        "maxphf = df['QpH'].max()\n",
        "minphf = df['QpH'].min()\n",
        "meanphf = df['QpH'].mean()\n",
        "print(maxphf)\n",
        "print(minphf)\n",
        "print(meanphf)"
      ],
      "execution_count": 13,
      "outputs": [
        {
          "output_type": "stream",
          "text": [
            "100\n",
            "35\n",
            "50.70077386070507\n"
          ],
          "name": "stdout"
        }
      ]
    },
    {
      "cell_type": "code",
      "metadata": {
        "id": "PxFBMIb3LGBF",
        "colab_type": "code",
        "colab": {}
      },
      "source": [
        "df['QTur']=df['QTur'].apply(lambda x: (90 if (10>=x>=0) \n",
        "                                   else(70 if  (20>=x>=10) \n",
        "                                       else(55 if  (30>=x>=20) \n",
        "                                           else(47 if  (40>=x>=30)\n",
        "                                               else(38 if  (50>=x>=40) \n",
        "                                                   else(35 if  (60>=x>=50)\n",
        "                                                       else(30 if  (70>=x>=60)\n",
        "                                                           else(25 if  (80>=x>=70)\n",
        "                                                               else(23 if  (90>=x>=80)\n",
        "                                                                   else(20 if  (100>=x>=90)\n",
        "                                                                       else 5)))))))))))"
      ],
      "execution_count": 14,
      "outputs": []
    },
    {
      "cell_type": "code",
      "metadata": {
        "id": "QwUcnojdLING",
        "colab_type": "code",
        "colab": {
          "base_uri": "https://localhost:8080/",
          "height": 70
        },
        "outputId": "cf5d47f8-051d-419a-dc0d-10f1f8728605"
      },
      "source": [
        "maxtf = df['QTur'].max()\n",
        "mintf = df['QTur'].min()\n",
        "meantf = df['QTur'].mean()\n",
        "print(maxtf)\n",
        "print(mintf)\n",
        "print(meantf)"
      ],
      "execution_count": 15,
      "outputs": [
        {
          "output_type": "stream",
          "text": [
            "70\n",
            "5\n",
            "68.46474634565779\n"
          ],
          "name": "stdout"
        }
      ]
    },
    {
      "cell_type": "code",
      "metadata": {
        "id": "xiTUBedDLLD6",
        "colab_type": "code",
        "colab": {}
      },
      "source": [
        "df['QTDS']=df['QTDS'].apply(lambda x: (85 if (50>=x>=0) \n",
        "                                 else(88 if  (100>=x>=50) \n",
        "                                     else(80 if  (150>=x>=100) \n",
        "                                         else(75 if  (200>=x>=150) \n",
        "                                             else(70 if  (250>=x>=200) \n",
        "                                                 else(65 if  (300>=x>=250)\n",
        "                                                     else(55 if  (350>=x>=300)\n",
        "                                                         else(55 if  (350>=x>=300) \n",
        "                                                             else 0)))))))))"
      ],
      "execution_count": 16,
      "outputs": []
    },
    {
      "cell_type": "code",
      "metadata": {
        "id": "WVYUvaQ3LNis",
        "colab_type": "code",
        "colab": {
          "base_uri": "https://localhost:8080/",
          "height": 70
        },
        "outputId": "4022f1e0-2dde-479e-86f3-0c18c2905358"
      },
      "source": [
        "maxtdsf = df['QTDS'].max()\n",
        "mintdsf = df['QTDS'].min()\n",
        "meantdsf = df['QTDS'].mean()\n",
        "print(maxtdsf)\n",
        "print(mintdsf)\n",
        "print(meantdsf)"
      ],
      "execution_count": 17,
      "outputs": [
        {
          "output_type": "stream",
          "text": [
            "70\n",
            "0\n",
            "63.50386930352536\n"
          ],
          "name": "stdout"
        }
      ]
    },
    {
      "cell_type": "code",
      "metadata": {
        "id": "hSb_Q7pZLP07",
        "colab_type": "code",
        "colab": {}
      },
      "source": [
        "df['QDO']=df['QDO'].apply(lambda x: (5 if (20>=x>=0) \n",
        "                                 else(20 if  (40>=x>=20) \n",
        "                                     else(45 if  (60>=x>=40) \n",
        "                                         else(75 if  (80>=x>=60) \n",
        "                                             else(93 if  (100>=x>=80) \n",
        "                                                 else(95 if  (120>=x>=100)\n",
        "                                                     else(85 if  (140>=x>=120) \n",
        "                                                         else 50))))))))"
      ],
      "execution_count": 18,
      "outputs": []
    },
    {
      "cell_type": "code",
      "metadata": {
        "id": "96tpk1UuLSBe",
        "colab_type": "code",
        "colab": {
          "base_uri": "https://localhost:8080/",
          "height": 70
        },
        "outputId": "d1e54636-e3cb-44b0-f525-3fdfb9281ae9"
      },
      "source": [
        "maxtdof = df['QDO'].max()\n",
        "mintdof = df['QDO'].min()\n",
        "meantdof = df['QDO'].mean()\n",
        "print(maxtdof)\n",
        "print(mintdof)\n",
        "print(meantdof)"
      ],
      "execution_count": 19,
      "outputs": [
        {
          "output_type": "stream",
          "text": [
            "95\n",
            "45\n",
            "87.69905417024935\n"
          ],
          "name": "stdout"
        }
      ]
    },
    {
      "cell_type": "code",
      "metadata": {
        "id": "DK-A1xJeLUDM",
        "colab_type": "code",
        "colab": {}
      },
      "source": [
        "df.insert(16, 'WpH',df['QpH'])\n",
        "df.insert(17, 'WTur',df['QTur'])\n",
        "df.insert(18, 'WTDS',df['QTDS'])\n",
        "df.insert(19, 'WDO',df['QDO'])"
      ],
      "execution_count": 20,
      "outputs": []
    },
    {
      "cell_type": "code",
      "metadata": {
        "id": "Du5o0MLLLWJi",
        "colab_type": "code",
        "colab": {}
      },
      "source": [
        "df['WpH']=df['WpH']*0.255\n",
        "df['WTur']=df['WTur']*0.195\n",
        "df['WTDS']=df['WTDS']*0.175\n",
        "df['WDO']=df['WDO']*0.375"
      ],
      "execution_count": 21,
      "outputs": []
    },
    {
      "cell_type": "code",
      "metadata": {
        "id": "I41remwdLYbP",
        "colab_type": "code",
        "colab": {}
      },
      "source": [
        "df.insert(20, 'WQI',df['WpH']+df['WTur']+df['WTDS']+df['WDO'])"
      ],
      "execution_count": 22,
      "outputs": []
    },
    {
      "cell_type": "code",
      "metadata": {
        "id": "vtXOcLr5LafU",
        "colab_type": "code",
        "colab": {
          "base_uri": "https://localhost:8080/",
          "height": 384
        },
        "outputId": "4352a270-be8c-4c60-e895-92a2f8e51ff6"
      },
      "source": [
        "df.head()"
      ],
      "execution_count": 23,
      "outputs": [
        {
          "output_type": "execute_result",
          "data": {
            "text/html": [
              "<div>\n",
              "<style scoped>\n",
              "    .dataframe tbody tr th:only-of-type {\n",
              "        vertical-align: middle;\n",
              "    }\n",
              "\n",
              "    .dataframe tbody tr th {\n",
              "        vertical-align: top;\n",
              "    }\n",
              "\n",
              "    .dataframe thead th {\n",
              "        text-align: right;\n",
              "    }\n",
              "</style>\n",
              "<table border=\"1\" class=\"dataframe\">\n",
              "  <thead>\n",
              "    <tr style=\"text-align: right;\">\n",
              "      <th></th>\n",
              "      <th>Date</th>\n",
              "      <th>Time</th>\n",
              "      <th>Temp</th>\n",
              "      <th>pH</th>\n",
              "      <th>ORP</th>\n",
              "      <th>EC</th>\n",
              "      <th>RES</th>\n",
              "      <th>TDS</th>\n",
              "      <th>Salinity</th>\n",
              "      <th>Pressure</th>\n",
              "      <th>D.O.</th>\n",
              "      <th>Turbidity</th>\n",
              "      <th>QpH</th>\n",
              "      <th>QTur</th>\n",
              "      <th>QTDS</th>\n",
              "      <th>QDO</th>\n",
              "      <th>WpH</th>\n",
              "      <th>WTur</th>\n",
              "      <th>WTDS</th>\n",
              "      <th>WDO</th>\n",
              "      <th>WQI</th>\n",
              "    </tr>\n",
              "  </thead>\n",
              "  <tbody>\n",
              "    <tr>\n",
              "      <th>0</th>\n",
              "      <td>17-02-2020</td>\n",
              "      <td>17:04:52</td>\n",
              "      <td>20.67</td>\n",
              "      <td>8.40</td>\n",
              "      <td>88.6</td>\n",
              "      <td>470</td>\n",
              "      <td>2128</td>\n",
              "      <td>306</td>\n",
              "      <td>0.23</td>\n",
              "      <td>14.568</td>\n",
              "      <td>101.5</td>\n",
              "      <td>36.7</td>\n",
              "      <td>65</td>\n",
              "      <td>47</td>\n",
              "      <td>55</td>\n",
              "      <td>95</td>\n",
              "      <td>16.575</td>\n",
              "      <td>9.165</td>\n",
              "      <td>9.625</td>\n",
              "      <td>35.625</td>\n",
              "      <td>70.990</td>\n",
              "    </tr>\n",
              "    <tr>\n",
              "      <th>1</th>\n",
              "      <td>17-02-2020</td>\n",
              "      <td>17:05:02</td>\n",
              "      <td>20.67</td>\n",
              "      <td>8.40</td>\n",
              "      <td>88.5</td>\n",
              "      <td>470</td>\n",
              "      <td>2128</td>\n",
              "      <td>305</td>\n",
              "      <td>0.23</td>\n",
              "      <td>14.569</td>\n",
              "      <td>101.4</td>\n",
              "      <td>42.4</td>\n",
              "      <td>65</td>\n",
              "      <td>38</td>\n",
              "      <td>55</td>\n",
              "      <td>95</td>\n",
              "      <td>16.575</td>\n",
              "      <td>7.410</td>\n",
              "      <td>9.625</td>\n",
              "      <td>35.625</td>\n",
              "      <td>69.235</td>\n",
              "    </tr>\n",
              "    <tr>\n",
              "      <th>2</th>\n",
              "      <td>17-02-2020</td>\n",
              "      <td>17:05:12</td>\n",
              "      <td>20.67</td>\n",
              "      <td>8.40</td>\n",
              "      <td>88.2</td>\n",
              "      <td>470</td>\n",
              "      <td>2128</td>\n",
              "      <td>305</td>\n",
              "      <td>0.23</td>\n",
              "      <td>14.569</td>\n",
              "      <td>101.5</td>\n",
              "      <td>38.2</td>\n",
              "      <td>65</td>\n",
              "      <td>47</td>\n",
              "      <td>55</td>\n",
              "      <td>95</td>\n",
              "      <td>16.575</td>\n",
              "      <td>9.165</td>\n",
              "      <td>9.625</td>\n",
              "      <td>35.625</td>\n",
              "      <td>70.990</td>\n",
              "    </tr>\n",
              "    <tr>\n",
              "      <th>3</th>\n",
              "      <td>17-02-2020</td>\n",
              "      <td>17:05:22</td>\n",
              "      <td>20.67</td>\n",
              "      <td>8.40</td>\n",
              "      <td>87.9</td>\n",
              "      <td>470</td>\n",
              "      <td>2128</td>\n",
              "      <td>305</td>\n",
              "      <td>0.23</td>\n",
              "      <td>14.567</td>\n",
              "      <td>101.7</td>\n",
              "      <td>38.0</td>\n",
              "      <td>65</td>\n",
              "      <td>47</td>\n",
              "      <td>55</td>\n",
              "      <td>95</td>\n",
              "      <td>16.575</td>\n",
              "      <td>9.165</td>\n",
              "      <td>9.625</td>\n",
              "      <td>35.625</td>\n",
              "      <td>70.990</td>\n",
              "    </tr>\n",
              "    <tr>\n",
              "      <th>4</th>\n",
              "      <td>17-02-2020</td>\n",
              "      <td>17:05:32</td>\n",
              "      <td>20.68</td>\n",
              "      <td>8.41</td>\n",
              "      <td>87.8</td>\n",
              "      <td>469</td>\n",
              "      <td>2132</td>\n",
              "      <td>305</td>\n",
              "      <td>0.23</td>\n",
              "      <td>14.566</td>\n",
              "      <td>101.7</td>\n",
              "      <td>46.8</td>\n",
              "      <td>65</td>\n",
              "      <td>38</td>\n",
              "      <td>55</td>\n",
              "      <td>95</td>\n",
              "      <td>16.575</td>\n",
              "      <td>7.410</td>\n",
              "      <td>9.625</td>\n",
              "      <td>35.625</td>\n",
              "      <td>69.235</td>\n",
              "    </tr>\n",
              "  </tbody>\n",
              "</table>\n",
              "</div>"
            ],
            "text/plain": [
              "         Date      Time   Temp   pH   ...   WTur   WTDS     WDO     WQI\n",
              "0  17-02-2020  17:04:52  20.67  8.40  ...  9.165  9.625  35.625  70.990\n",
              "1  17-02-2020  17:05:02  20.67  8.40  ...  7.410  9.625  35.625  69.235\n",
              "2  17-02-2020  17:05:12  20.67  8.40  ...  9.165  9.625  35.625  70.990\n",
              "3  17-02-2020  17:05:22  20.67  8.40  ...  9.165  9.625  35.625  70.990\n",
              "4  17-02-2020  17:05:32  20.68  8.41  ...  7.410  9.625  35.625  69.235\n",
              "\n",
              "[5 rows x 21 columns]"
            ]
          },
          "metadata": {
            "tags": []
          },
          "execution_count": 23
        }
      ]
    },
    {
      "cell_type": "markdown",
      "metadata": {
        "id": "SKJC3KgkLdiM",
        "colab_type": "text"
      },
      "source": [
        "#Class Divison"
      ]
    },
    {
      "cell_type": "code",
      "metadata": {
        "id": "D8L6i7cCLebT",
        "colab_type": "code",
        "colab": {
          "base_uri": "https://localhost:8080/",
          "height": 123
        },
        "outputId": "0b6dd294-069f-4dad-cb07-f829749b0f00"
      },
      "source": [
        "print(\"Class division based on WQI values:\")\n",
        "print(\"Class 1: 0-25\")\n",
        "print(\"Class 2: 26-50\")\n",
        "print(\"Class 3: 51-70\")\n",
        "print(\"Class 4: 71-90\")\n",
        "print(\"Class 5: Above 100\")"
      ],
      "execution_count": 24,
      "outputs": [
        {
          "output_type": "stream",
          "text": [
            "Class division based on WQI values:\n",
            "Class 1: 0-25\n",
            "Class 2: 26-50\n",
            "Class 3: 51-70\n",
            "Class 4: 71-90\n",
            "Class 5: Above 100\n"
          ],
          "name": "stdout"
        }
      ]
    },
    {
      "cell_type": "code",
      "metadata": {
        "id": "a1N6AhC8LgtF",
        "colab_type": "code",
        "colab": {}
      },
      "source": [
        "df.insert(21,'Result',df['WQI'])"
      ],
      "execution_count": 25,
      "outputs": []
    },
    {
      "cell_type": "code",
      "metadata": {
        "id": "FhowAjDjLkhh",
        "colab_type": "code",
        "colab": {}
      },
      "source": [
        "def func(y):\n",
        "    val = 0\n",
        "    if y<=25:\n",
        "        val = 1\n",
        "    elif 25<y<=50:\n",
        "        val = 2\n",
        "    elif 50<y<=70:\n",
        "        val = 3\n",
        "    elif 70<y<=90:\n",
        "        val = 4\n",
        "    elif 91<y:\n",
        "        val = 5\n",
        "    return val"
      ],
      "execution_count": 26,
      "outputs": []
    },
    {
      "cell_type": "code",
      "metadata": {
        "id": "MQXDNJWcLlw9",
        "colab_type": "code",
        "colab": {}
      },
      "source": [
        "df['Result']=df['Result'].apply(lambda x: func(x))"
      ],
      "execution_count": 27,
      "outputs": []
    },
    {
      "cell_type": "code",
      "metadata": {
        "id": "K_laiUDFLqMK",
        "colab_type": "code",
        "colab": {
          "base_uri": "https://localhost:8080/",
          "height": 384
        },
        "outputId": "b5d1b8a2-776b-495d-d08b-0ef15aba9860"
      },
      "source": [
        "df.head()"
      ],
      "execution_count": 28,
      "outputs": [
        {
          "output_type": "execute_result",
          "data": {
            "text/html": [
              "<div>\n",
              "<style scoped>\n",
              "    .dataframe tbody tr th:only-of-type {\n",
              "        vertical-align: middle;\n",
              "    }\n",
              "\n",
              "    .dataframe tbody tr th {\n",
              "        vertical-align: top;\n",
              "    }\n",
              "\n",
              "    .dataframe thead th {\n",
              "        text-align: right;\n",
              "    }\n",
              "</style>\n",
              "<table border=\"1\" class=\"dataframe\">\n",
              "  <thead>\n",
              "    <tr style=\"text-align: right;\">\n",
              "      <th></th>\n",
              "      <th>Date</th>\n",
              "      <th>Time</th>\n",
              "      <th>Temp</th>\n",
              "      <th>pH</th>\n",
              "      <th>ORP</th>\n",
              "      <th>EC</th>\n",
              "      <th>RES</th>\n",
              "      <th>TDS</th>\n",
              "      <th>Salinity</th>\n",
              "      <th>Pressure</th>\n",
              "      <th>D.O.</th>\n",
              "      <th>Turbidity</th>\n",
              "      <th>QpH</th>\n",
              "      <th>QTur</th>\n",
              "      <th>QTDS</th>\n",
              "      <th>QDO</th>\n",
              "      <th>WpH</th>\n",
              "      <th>WTur</th>\n",
              "      <th>WTDS</th>\n",
              "      <th>WDO</th>\n",
              "      <th>WQI</th>\n",
              "      <th>Result</th>\n",
              "    </tr>\n",
              "  </thead>\n",
              "  <tbody>\n",
              "    <tr>\n",
              "      <th>0</th>\n",
              "      <td>17-02-2020</td>\n",
              "      <td>17:04:52</td>\n",
              "      <td>20.67</td>\n",
              "      <td>8.40</td>\n",
              "      <td>88.6</td>\n",
              "      <td>470</td>\n",
              "      <td>2128</td>\n",
              "      <td>306</td>\n",
              "      <td>0.23</td>\n",
              "      <td>14.568</td>\n",
              "      <td>101.5</td>\n",
              "      <td>36.7</td>\n",
              "      <td>65</td>\n",
              "      <td>47</td>\n",
              "      <td>55</td>\n",
              "      <td>95</td>\n",
              "      <td>16.575</td>\n",
              "      <td>9.165</td>\n",
              "      <td>9.625</td>\n",
              "      <td>35.625</td>\n",
              "      <td>70.990</td>\n",
              "      <td>4</td>\n",
              "    </tr>\n",
              "    <tr>\n",
              "      <th>1</th>\n",
              "      <td>17-02-2020</td>\n",
              "      <td>17:05:02</td>\n",
              "      <td>20.67</td>\n",
              "      <td>8.40</td>\n",
              "      <td>88.5</td>\n",
              "      <td>470</td>\n",
              "      <td>2128</td>\n",
              "      <td>305</td>\n",
              "      <td>0.23</td>\n",
              "      <td>14.569</td>\n",
              "      <td>101.4</td>\n",
              "      <td>42.4</td>\n",
              "      <td>65</td>\n",
              "      <td>38</td>\n",
              "      <td>55</td>\n",
              "      <td>95</td>\n",
              "      <td>16.575</td>\n",
              "      <td>7.410</td>\n",
              "      <td>9.625</td>\n",
              "      <td>35.625</td>\n",
              "      <td>69.235</td>\n",
              "      <td>3</td>\n",
              "    </tr>\n",
              "    <tr>\n",
              "      <th>2</th>\n",
              "      <td>17-02-2020</td>\n",
              "      <td>17:05:12</td>\n",
              "      <td>20.67</td>\n",
              "      <td>8.40</td>\n",
              "      <td>88.2</td>\n",
              "      <td>470</td>\n",
              "      <td>2128</td>\n",
              "      <td>305</td>\n",
              "      <td>0.23</td>\n",
              "      <td>14.569</td>\n",
              "      <td>101.5</td>\n",
              "      <td>38.2</td>\n",
              "      <td>65</td>\n",
              "      <td>47</td>\n",
              "      <td>55</td>\n",
              "      <td>95</td>\n",
              "      <td>16.575</td>\n",
              "      <td>9.165</td>\n",
              "      <td>9.625</td>\n",
              "      <td>35.625</td>\n",
              "      <td>70.990</td>\n",
              "      <td>4</td>\n",
              "    </tr>\n",
              "    <tr>\n",
              "      <th>3</th>\n",
              "      <td>17-02-2020</td>\n",
              "      <td>17:05:22</td>\n",
              "      <td>20.67</td>\n",
              "      <td>8.40</td>\n",
              "      <td>87.9</td>\n",
              "      <td>470</td>\n",
              "      <td>2128</td>\n",
              "      <td>305</td>\n",
              "      <td>0.23</td>\n",
              "      <td>14.567</td>\n",
              "      <td>101.7</td>\n",
              "      <td>38.0</td>\n",
              "      <td>65</td>\n",
              "      <td>47</td>\n",
              "      <td>55</td>\n",
              "      <td>95</td>\n",
              "      <td>16.575</td>\n",
              "      <td>9.165</td>\n",
              "      <td>9.625</td>\n",
              "      <td>35.625</td>\n",
              "      <td>70.990</td>\n",
              "      <td>4</td>\n",
              "    </tr>\n",
              "    <tr>\n",
              "      <th>4</th>\n",
              "      <td>17-02-2020</td>\n",
              "      <td>17:05:32</td>\n",
              "      <td>20.68</td>\n",
              "      <td>8.41</td>\n",
              "      <td>87.8</td>\n",
              "      <td>469</td>\n",
              "      <td>2132</td>\n",
              "      <td>305</td>\n",
              "      <td>0.23</td>\n",
              "      <td>14.566</td>\n",
              "      <td>101.7</td>\n",
              "      <td>46.8</td>\n",
              "      <td>65</td>\n",
              "      <td>38</td>\n",
              "      <td>55</td>\n",
              "      <td>95</td>\n",
              "      <td>16.575</td>\n",
              "      <td>7.410</td>\n",
              "      <td>9.625</td>\n",
              "      <td>35.625</td>\n",
              "      <td>69.235</td>\n",
              "      <td>3</td>\n",
              "    </tr>\n",
              "  </tbody>\n",
              "</table>\n",
              "</div>"
            ],
            "text/plain": [
              "         Date      Time   Temp   pH   ...   WTDS     WDO     WQI  Result\n",
              "0  17-02-2020  17:04:52  20.67  8.40  ...  9.625  35.625  70.990       4\n",
              "1  17-02-2020  17:05:02  20.67  8.40  ...  9.625  35.625  69.235       3\n",
              "2  17-02-2020  17:05:12  20.67  8.40  ...  9.625  35.625  70.990       4\n",
              "3  17-02-2020  17:05:22  20.67  8.40  ...  9.625  35.625  70.990       4\n",
              "4  17-02-2020  17:05:32  20.68  8.41  ...  9.625  35.625  69.235       3\n",
              "\n",
              "[5 rows x 22 columns]"
            ]
          },
          "metadata": {
            "tags": []
          },
          "execution_count": 28
        }
      ]
    },
    {
      "cell_type": "code",
      "metadata": {
        "id": "gI6bxhqgLsnQ",
        "colab_type": "code",
        "colab": {
          "base_uri": "https://localhost:8080/",
          "height": 34
        },
        "outputId": "57935bce-8e0c-4810-945f-fffcc85915a2"
      },
      "source": [
        "if 5 in df['Result']:\n",
        "    print('5 exists in Dataframe')"
      ],
      "execution_count": 29,
      "outputs": [
        {
          "output_type": "stream",
          "text": [
            "5 exists in Dataframe\n"
          ],
          "name": "stdout"
        }
      ]
    },
    {
      "cell_type": "code",
      "metadata": {
        "id": "nw7JPj-3LuZ5",
        "colab_type": "code",
        "colab": {
          "base_uri": "https://localhost:8080/",
          "height": 34
        },
        "outputId": "6b3f8fdc-1389-4713-fb57-6851c1209a56"
      },
      "source": [
        "if 4 in df['Result']:\n",
        "    print('4 exists in Dataframe')"
      ],
      "execution_count": 30,
      "outputs": [
        {
          "output_type": "stream",
          "text": [
            "4 exists in Dataframe\n"
          ],
          "name": "stdout"
        }
      ]
    },
    {
      "cell_type": "code",
      "metadata": {
        "id": "G8dn6abaLwrk",
        "colab_type": "code",
        "colab": {
          "base_uri": "https://localhost:8080/",
          "height": 34
        },
        "outputId": "4a7d44f9-de30-4bee-aa98-799d0232645a"
      },
      "source": [
        "if 3 in df['Result']:\n",
        "    print('3 exists in Dataframe')"
      ],
      "execution_count": 31,
      "outputs": [
        {
          "output_type": "stream",
          "text": [
            "3 exists in Dataframe\n"
          ],
          "name": "stdout"
        }
      ]
    },
    {
      "cell_type": "code",
      "metadata": {
        "id": "xuNY8p6FL0Zz",
        "colab_type": "code",
        "colab": {
          "base_uri": "https://localhost:8080/",
          "height": 34
        },
        "outputId": "86bcecdc-f994-477e-bdad-f489b61ec6bb"
      },
      "source": [
        "if 2 in df['Result']:\n",
        "    print('2 exists in Dataframe')"
      ],
      "execution_count": 32,
      "outputs": [
        {
          "output_type": "stream",
          "text": [
            "2 exists in Dataframe\n"
          ],
          "name": "stdout"
        }
      ]
    },
    {
      "cell_type": "code",
      "metadata": {
        "id": "ZahiMlLqL3SV",
        "colab_type": "code",
        "colab": {
          "base_uri": "https://localhost:8080/",
          "height": 34
        },
        "outputId": "c94fda8a-a94d-404a-d17c-a45c40a066ff"
      },
      "source": [
        "if 1 in df['Result']:\n",
        "    print('1 exists in Dataframe')"
      ],
      "execution_count": 33,
      "outputs": [
        {
          "output_type": "stream",
          "text": [
            "1 exists in Dataframe\n"
          ],
          "name": "stdout"
        }
      ]
    },
    {
      "cell_type": "code",
      "metadata": {
        "id": "lqELmIyuL4Qr",
        "colab_type": "code",
        "colab": {}
      },
      "source": [
        "df.to_csv('RiverDataResult.csv',index = False)"
      ],
      "execution_count": 34,
      "outputs": []
    }
  ]
}