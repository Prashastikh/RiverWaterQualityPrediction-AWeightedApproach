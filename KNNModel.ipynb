{
  "nbformat": 4,
  "nbformat_minor": 0,
  "metadata": {
    "colab": {
      "name": "KNNModel.ipynb",
      "provenance": [],
      "toc_visible": true
    },
    "kernelspec": {
      "name": "python3",
      "display_name": "Python 3"
    }
  },
  "cells": [
    {
      "cell_type": "markdown",
      "metadata": {
        "id": "Ajf-0fAuSzuI",
        "colab_type": "text"
      },
      "source": [
        "#Importing Libraries"
      ]
    },
    {
      "cell_type": "code",
      "metadata": {
        "id": "kzOeJ8L5Sqrm",
        "colab_type": "code",
        "colab": {}
      },
      "source": [
        "import pandas as pd\n",
        "import numpy as np"
      ],
      "execution_count": 1,
      "outputs": []
    },
    {
      "cell_type": "code",
      "metadata": {
        "id": "ngZf_nwDTP-y",
        "colab_type": "code",
        "colab": {}
      },
      "source": [
        "import sklearn\n",
        "import keras\n",
        "from sklearn.model_selection import train_test_split\n",
        "from sklearn.preprocessing import LabelEncoder \n",
        "from sklearn.metrics import confusion_matrix \n",
        "from sklearn.metrics import accuracy_score \n",
        "from sklearn.metrics import classification_report\n",
        "from sklearn.metrics import mean_absolute_error"
      ],
      "execution_count": 2,
      "outputs": []
    },
    {
      "cell_type": "code",
      "metadata": {
        "id": "uCPUmtrKTSV7",
        "colab_type": "code",
        "colab": {}
      },
      "source": [
        "import tensorflow as tf\n",
        "%matplotlib inline\n",
        "import matplotlib.pyplot as plt\n",
        "from sklearn.preprocessing import MinMaxScaler\n",
        "from sklearn.metrics import r2_score\n",
        "from keras.models import Sequential\n",
        "from keras.layers import Dense\n",
        "from keras.optimizers import Adam\n",
        "from keras.layers import LSTM"
      ],
      "execution_count": 3,
      "outputs": []
    },
    {
      "cell_type": "code",
      "metadata": {
        "id": "HgFqvzxyS2zi",
        "colab_type": "code",
        "colab": {}
      },
      "source": [
        "df = pd.read_csv('RiverDataResult.csv')"
      ],
      "execution_count": 4,
      "outputs": []
    },
    {
      "cell_type": "code",
      "metadata": {
        "id": "hAcSranMTFfi",
        "colab_type": "code",
        "colab": {
          "base_uri": "https://localhost:8080/",
          "height": 34
        },
        "outputId": "b88432b0-142f-4bf4-8d7a-00c80c4fcfb8"
      },
      "source": [
        "print(df.shape)"
      ],
      "execution_count": 5,
      "outputs": [
        {
          "output_type": "stream",
          "text": [
            "(2326, 22)\n"
          ],
          "name": "stdout"
        }
      ]
    },
    {
      "cell_type": "code",
      "metadata": {
        "id": "mZwWNJwmTHjp",
        "colab_type": "code",
        "colab": {
          "base_uri": "https://localhost:8080/",
          "height": 384
        },
        "outputId": "1b27e58b-8186-4d93-cf20-e4c22a27c7a8"
      },
      "source": [
        "df.head()"
      ],
      "execution_count": 6,
      "outputs": [
        {
          "output_type": "execute_result",
          "data": {
            "text/html": [
              "<div>\n",
              "<style scoped>\n",
              "    .dataframe tbody tr th:only-of-type {\n",
              "        vertical-align: middle;\n",
              "    }\n",
              "\n",
              "    .dataframe tbody tr th {\n",
              "        vertical-align: top;\n",
              "    }\n",
              "\n",
              "    .dataframe thead th {\n",
              "        text-align: right;\n",
              "    }\n",
              "</style>\n",
              "<table border=\"1\" class=\"dataframe\">\n",
              "  <thead>\n",
              "    <tr style=\"text-align: right;\">\n",
              "      <th></th>\n",
              "      <th>Date</th>\n",
              "      <th>Time</th>\n",
              "      <th>Temp</th>\n",
              "      <th>pH</th>\n",
              "      <th>ORP</th>\n",
              "      <th>EC</th>\n",
              "      <th>RES</th>\n",
              "      <th>TDS</th>\n",
              "      <th>Salinity</th>\n",
              "      <th>Pressure</th>\n",
              "      <th>D.O.</th>\n",
              "      <th>Turbidity</th>\n",
              "      <th>QpH</th>\n",
              "      <th>QTur</th>\n",
              "      <th>QTDS</th>\n",
              "      <th>QDO</th>\n",
              "      <th>WpH</th>\n",
              "      <th>WTur</th>\n",
              "      <th>WTDS</th>\n",
              "      <th>WDO</th>\n",
              "      <th>WQI</th>\n",
              "      <th>Result</th>\n",
              "    </tr>\n",
              "  </thead>\n",
              "  <tbody>\n",
              "    <tr>\n",
              "      <th>0</th>\n",
              "      <td>17-02-2020</td>\n",
              "      <td>17:04:52</td>\n",
              "      <td>20.67</td>\n",
              "      <td>8.40</td>\n",
              "      <td>88.6</td>\n",
              "      <td>470</td>\n",
              "      <td>2128</td>\n",
              "      <td>306</td>\n",
              "      <td>0.23</td>\n",
              "      <td>14.568</td>\n",
              "      <td>101.5</td>\n",
              "      <td>36.7</td>\n",
              "      <td>65</td>\n",
              "      <td>47</td>\n",
              "      <td>55</td>\n",
              "      <td>95</td>\n",
              "      <td>16.575</td>\n",
              "      <td>9.165</td>\n",
              "      <td>9.625</td>\n",
              "      <td>35.625</td>\n",
              "      <td>70.990</td>\n",
              "      <td>4</td>\n",
              "    </tr>\n",
              "    <tr>\n",
              "      <th>1</th>\n",
              "      <td>17-02-2020</td>\n",
              "      <td>17:05:02</td>\n",
              "      <td>20.67</td>\n",
              "      <td>8.40</td>\n",
              "      <td>88.5</td>\n",
              "      <td>470</td>\n",
              "      <td>2128</td>\n",
              "      <td>305</td>\n",
              "      <td>0.23</td>\n",
              "      <td>14.569</td>\n",
              "      <td>101.4</td>\n",
              "      <td>42.4</td>\n",
              "      <td>65</td>\n",
              "      <td>38</td>\n",
              "      <td>55</td>\n",
              "      <td>95</td>\n",
              "      <td>16.575</td>\n",
              "      <td>7.410</td>\n",
              "      <td>9.625</td>\n",
              "      <td>35.625</td>\n",
              "      <td>69.235</td>\n",
              "      <td>3</td>\n",
              "    </tr>\n",
              "    <tr>\n",
              "      <th>2</th>\n",
              "      <td>17-02-2020</td>\n",
              "      <td>17:05:12</td>\n",
              "      <td>20.67</td>\n",
              "      <td>8.40</td>\n",
              "      <td>88.2</td>\n",
              "      <td>470</td>\n",
              "      <td>2128</td>\n",
              "      <td>305</td>\n",
              "      <td>0.23</td>\n",
              "      <td>14.569</td>\n",
              "      <td>101.5</td>\n",
              "      <td>38.2</td>\n",
              "      <td>65</td>\n",
              "      <td>47</td>\n",
              "      <td>55</td>\n",
              "      <td>95</td>\n",
              "      <td>16.575</td>\n",
              "      <td>9.165</td>\n",
              "      <td>9.625</td>\n",
              "      <td>35.625</td>\n",
              "      <td>70.990</td>\n",
              "      <td>4</td>\n",
              "    </tr>\n",
              "    <tr>\n",
              "      <th>3</th>\n",
              "      <td>17-02-2020</td>\n",
              "      <td>17:05:22</td>\n",
              "      <td>20.67</td>\n",
              "      <td>8.40</td>\n",
              "      <td>87.9</td>\n",
              "      <td>470</td>\n",
              "      <td>2128</td>\n",
              "      <td>305</td>\n",
              "      <td>0.23</td>\n",
              "      <td>14.567</td>\n",
              "      <td>101.7</td>\n",
              "      <td>38.0</td>\n",
              "      <td>65</td>\n",
              "      <td>47</td>\n",
              "      <td>55</td>\n",
              "      <td>95</td>\n",
              "      <td>16.575</td>\n",
              "      <td>9.165</td>\n",
              "      <td>9.625</td>\n",
              "      <td>35.625</td>\n",
              "      <td>70.990</td>\n",
              "      <td>4</td>\n",
              "    </tr>\n",
              "    <tr>\n",
              "      <th>4</th>\n",
              "      <td>17-02-2020</td>\n",
              "      <td>17:05:32</td>\n",
              "      <td>20.68</td>\n",
              "      <td>8.41</td>\n",
              "      <td>87.8</td>\n",
              "      <td>469</td>\n",
              "      <td>2132</td>\n",
              "      <td>305</td>\n",
              "      <td>0.23</td>\n",
              "      <td>14.566</td>\n",
              "      <td>101.7</td>\n",
              "      <td>46.8</td>\n",
              "      <td>65</td>\n",
              "      <td>38</td>\n",
              "      <td>55</td>\n",
              "      <td>95</td>\n",
              "      <td>16.575</td>\n",
              "      <td>7.410</td>\n",
              "      <td>9.625</td>\n",
              "      <td>35.625</td>\n",
              "      <td>69.235</td>\n",
              "      <td>3</td>\n",
              "    </tr>\n",
              "  </tbody>\n",
              "</table>\n",
              "</div>"
            ],
            "text/plain": [
              "         Date      Time   Temp   pH   ...   WTDS     WDO     WQI  Result\n",
              "0  17-02-2020  17:04:52  20.67  8.40  ...  9.625  35.625  70.990       4\n",
              "1  17-02-2020  17:05:02  20.67  8.40  ...  9.625  35.625  69.235       3\n",
              "2  17-02-2020  17:05:12  20.67  8.40  ...  9.625  35.625  70.990       4\n",
              "3  17-02-2020  17:05:22  20.67  8.40  ...  9.625  35.625  70.990       4\n",
              "4  17-02-2020  17:05:32  20.68  8.41  ...  9.625  35.625  69.235       3\n",
              "\n",
              "[5 rows x 22 columns]"
            ]
          },
          "metadata": {
            "tags": []
          },
          "execution_count": 6
        }
      ]
    },
    {
      "cell_type": "markdown",
      "metadata": {
        "id": "cxKk3rTNU8Ps",
        "colab_type": "text"
      },
      "source": [
        "#Train Test Splitting"
      ]
    },
    {
      "cell_type": "code",
      "metadata": {
        "id": "5SIi9ULQTKYu",
        "colab_type": "code",
        "colab": {}
      },
      "source": [
        "X = df.iloc[:,[3,7,10,11]]"
      ],
      "execution_count": 7,
      "outputs": []
    },
    {
      "cell_type": "code",
      "metadata": {
        "id": "U7Q3ITVnU_NK",
        "colab_type": "code",
        "colab": {
          "base_uri": "https://localhost:8080/",
          "height": 265
        },
        "outputId": "cfc139c9-6c2e-4cf4-9101-86c4546e1195"
      },
      "source": [
        "print(X)"
      ],
      "execution_count": 8,
      "outputs": [
        {
          "output_type": "stream",
          "text": [
            "       pH   TDS   D.O.  Turbidity\n",
            "0     8.40  306  101.5       36.7\n",
            "1     8.40  305  101.4       42.4\n",
            "2     8.40  305  101.5       38.2\n",
            "3     8.40  305  101.7       38.0\n",
            "4     8.41  305  101.7       46.8\n",
            "...    ...  ...    ...        ...\n",
            "2321  8.94  299  124.9       12.3\n",
            "2322  8.96  297  125.6       11.9\n",
            "2323  8.98  296  125.9       11.8\n",
            "2324  8.95  297  125.7       11.6\n",
            "2325  8.93  299  125.7       13.6\n",
            "\n",
            "[2326 rows x 4 columns]\n"
          ],
          "name": "stdout"
        }
      ]
    },
    {
      "cell_type": "code",
      "metadata": {
        "id": "_P8MJLPNVBdC",
        "colab_type": "code",
        "colab": {}
      },
      "source": [
        "Y=df['Result']"
      ],
      "execution_count": 9,
      "outputs": []
    },
    {
      "cell_type": "code",
      "metadata": {
        "id": "4WUi9uecVE02",
        "colab_type": "code",
        "colab": {
          "base_uri": "https://localhost:8080/",
          "height": 123
        },
        "outputId": "85ec2333-a2e5-4049-ef4c-48337a9406c9"
      },
      "source": [
        "Y.head()"
      ],
      "execution_count": 10,
      "outputs": [
        {
          "output_type": "execute_result",
          "data": {
            "text/plain": [
              "0    4\n",
              "1    3\n",
              "2    4\n",
              "3    4\n",
              "4    3\n",
              "Name: Result, dtype: int64"
            ]
          },
          "metadata": {
            "tags": []
          },
          "execution_count": 10
        }
      ]
    },
    {
      "cell_type": "code",
      "metadata": {
        "id": "dB6n4Ng9VGe3",
        "colab_type": "code",
        "colab": {}
      },
      "source": [
        "X_train, X_test, Y_train, Y_test = train_test_split(X, Y, test_size=0.33, random_state=45)\n",
        "\n",
        "X_train = X_train.values\n",
        "X_test = X_test.values\n",
        "\n",
        "Y_train = Y_train.values\n",
        "Y_test = Y_test.values"
      ],
      "execution_count": 11,
      "outputs": []
    },
    {
      "cell_type": "code",
      "metadata": {
        "id": "8CsgLgiBVJAe",
        "colab_type": "code",
        "colab": {
          "base_uri": "https://localhost:8080/",
          "height": 141
        },
        "outputId": "41c566d9-cc58-4b67-f53f-d6d290b1fe58"
      },
      "source": [
        "print(X_train)"
      ],
      "execution_count": 12,
      "outputs": [
        {
          "output_type": "stream",
          "text": [
            "[[  8.4  305.   101.4   42.4 ]\n",
            " [  8.88 295.   113.8   13.1 ]\n",
            " [  9.   278.   127.3   14.2 ]\n",
            " ...\n",
            " [  9.02 279.   123.1   12.2 ]\n",
            " [  8.94 294.   116.3   13.6 ]\n",
            " [  8.87 295.   113.4   14.3 ]]\n"
          ],
          "name": "stdout"
        }
      ]
    },
    {
      "cell_type": "markdown",
      "metadata": {
        "id": "5n9FxMSFVT0O",
        "colab_type": "text"
      },
      "source": [
        "#Scaling"
      ]
    },
    {
      "cell_type": "code",
      "metadata": {
        "id": "zR7O6G1wVP1X",
        "colab_type": "code",
        "colab": {}
      },
      "source": [
        "from sklearn.preprocessing import StandardScaler"
      ],
      "execution_count": 13,
      "outputs": []
    },
    {
      "cell_type": "code",
      "metadata": {
        "id": "Ap9aQnDbVW3q",
        "colab_type": "code",
        "colab": {}
      },
      "source": [
        "scaler = StandardScaler()\n",
        "scaler.fit(X_train)\n",
        "\n",
        "X_train = scaler.transform(X_train)\n",
        "X_test = scaler.transform(X_test)"
      ],
      "execution_count": 14,
      "outputs": []
    },
    {
      "cell_type": "markdown",
      "metadata": {
        "id": "005JEjo5V9-g",
        "colab_type": "text"
      },
      "source": [
        "#Classifier"
      ]
    },
    {
      "cell_type": "code",
      "metadata": {
        "id": "iN6Z6NaUVYop",
        "colab_type": "code",
        "colab": {
          "base_uri": "https://localhost:8080/",
          "height": 70
        },
        "outputId": "b2576aea-2104-4996-f325-ce9e5d967ee9"
      },
      "source": [
        "from sklearn.neighbors import KNeighborsClassifier\n",
        "classifier = KNeighborsClassifier(n_neighbors=5)\n",
        "classifier.fit(X_train, Y_train)"
      ],
      "execution_count": 15,
      "outputs": [
        {
          "output_type": "execute_result",
          "data": {
            "text/plain": [
              "KNeighborsClassifier(algorithm='auto', leaf_size=30, metric='minkowski',\n",
              "                     metric_params=None, n_jobs=None, n_neighbors=5, p=2,\n",
              "                     weights='uniform')"
            ]
          },
          "metadata": {
            "tags": []
          },
          "execution_count": 15
        }
      ]
    },
    {
      "cell_type": "markdown",
      "metadata": {
        "id": "4ZTGgMh-WBbg",
        "colab_type": "text"
      },
      "source": [
        "#Prediction"
      ]
    },
    {
      "cell_type": "code",
      "metadata": {
        "id": "hy-ophGiVavd",
        "colab_type": "code",
        "colab": {}
      },
      "source": [
        "Y_pred = classifier.predict(X_test)"
      ],
      "execution_count": 16,
      "outputs": []
    },
    {
      "cell_type": "code",
      "metadata": {
        "id": "elcwqyNOVdc7",
        "colab_type": "code",
        "colab": {}
      },
      "source": [
        "Y_predt = classifier.predict(X_train)"
      ],
      "execution_count": 17,
      "outputs": []
    },
    {
      "cell_type": "markdown",
      "metadata": {
        "id": "tu20ybGIWEBs",
        "colab_type": "text"
      },
      "source": [
        "#Metrics "
      ]
    },
    {
      "cell_type": "code",
      "metadata": {
        "id": "rWOTS09DVfDs",
        "colab_type": "code",
        "colab": {
          "base_uri": "https://localhost:8080/",
          "height": 247
        },
        "outputId": "53b077f4-f8c0-4d96-a007-33d2a2f4ba95"
      },
      "source": [
        "from sklearn.metrics import classification_report, confusion_matrix\n",
        "print(confusion_matrix(Y_test, Y_pred))\n",
        "print(classification_report(Y_test, Y_pred))"
      ],
      "execution_count": 18,
      "outputs": [
        {
          "output_type": "stream",
          "text": [
            "[[  1   1   0]\n",
            " [  0 362   9]\n",
            " [  0   4 391]]\n",
            "              precision    recall  f1-score   support\n",
            "\n",
            "           2       1.00      0.50      0.67         2\n",
            "           3       0.99      0.98      0.98       371\n",
            "           4       0.98      0.99      0.98       395\n",
            "\n",
            "    accuracy                           0.98       768\n",
            "   macro avg       0.99      0.82      0.88       768\n",
            "weighted avg       0.98      0.98      0.98       768\n",
            "\n"
          ],
          "name": "stdout"
        }
      ]
    },
    {
      "cell_type": "markdown",
      "metadata": {
        "id": "VqYYRFDDWLq8",
        "colab_type": "text"
      },
      "source": [
        "#Accuracy"
      ]
    },
    {
      "cell_type": "code",
      "metadata": {
        "id": "_lCkwbdBVhNv",
        "colab_type": "code",
        "colab": {
          "base_uri": "https://localhost:8080/",
          "height": 34
        },
        "outputId": "dbdc5510-404d-40d7-b27a-787d842959dc"
      },
      "source": [
        "acc1 = accuracy_score(Y_train, Y_predt)\n",
        "print(acc1);"
      ],
      "execution_count": 19,
      "outputs": [
        {
          "output_type": "stream",
          "text": [
            "0.9890885750962772\n"
          ],
          "name": "stdout"
        }
      ]
    },
    {
      "cell_type": "code",
      "metadata": {
        "id": "oHWvk8obVjuQ",
        "colab_type": "code",
        "colab": {
          "base_uri": "https://localhost:8080/",
          "height": 34
        },
        "outputId": "4e297345-0676-4a73-ea07-0bef34171840"
      },
      "source": [
        "acc = accuracy_score(Y_test, Y_pred)\n",
        "print(acc);"
      ],
      "execution_count": 20,
      "outputs": [
        {
          "output_type": "stream",
          "text": [
            "0.9817708333333334\n"
          ],
          "name": "stdout"
        }
      ]
    },
    {
      "cell_type": "code",
      "metadata": {
        "id": "twxBdDsSVll8",
        "colab_type": "code",
        "colab": {}
      },
      "source": [
        "error = []\n",
        "# Calculating error for K values between 1 and 40\n",
        "for i in range(1, 40):\n",
        "    knn = KNeighborsClassifier(n_neighbors=i)\n",
        "    knn.fit(X_train, Y_train)\n",
        "    pred_i = knn.predict(X_test)\n",
        "    error.append(np.mean(pred_i != Y_test))"
      ],
      "execution_count": 21,
      "outputs": []
    },
    {
      "cell_type": "code",
      "metadata": {
        "id": "DwX_gX2JVnia",
        "colab_type": "code",
        "colab": {
          "base_uri": "https://localhost:8080/",
          "height": 422
        },
        "outputId": "c83b2c7b-68ff-4dd4-9793-c87bc91d9e5f"
      },
      "source": [
        "plt.figure(figsize=(12, 6))\n",
        "plt.plot(range(1, 40), error, color='red', linestyle='dashed', marker='o',\n",
        "         markerfacecolor='blue', markersize=10)\n",
        "plt.title('Error Rate K Value')\n",
        "plt.xlabel('K Value')\n",
        "plt.ylabel('Mean Error')"
      ],
      "execution_count": 22,
      "outputs": [
        {
          "output_type": "execute_result",
          "data": {
            "text/plain": [
              "Text(0, 0.5, 'Mean Error')"
            ]
          },
          "metadata": {
            "tags": []
          },
          "execution_count": 22
        },
        {
          "output_type": "display_data",
          "data": {
            "image/png": "[encoded data removed]",
            "text/plain": [
              "<Figure size 864x432 with 1 Axes>"
            ]
          },
          "metadata": {
            "tags": [],
            "needs_background": "light"
          }
        }
      ]
    },
    {
      "cell_type": "code",
      "metadata": {
        "id": "0v9KhVR9VsGi",
        "colab_type": "code",
        "colab": {}
      },
      "source": [
        "pr = classifier.predict_proba(X_test)"
      ],
      "execution_count": 23,
      "outputs": []
    },
    {
      "cell_type": "markdown",
      "metadata": {
        "id": "Ez82--72WO5X",
        "colab_type": "text"
      },
      "source": [
        "#Loss"
      ]
    },
    {
      "cell_type": "code",
      "metadata": {
        "id": "oyTktq2mVs8F",
        "colab_type": "code",
        "colab": {
          "base_uri": "https://localhost:8080/",
          "height": 34
        },
        "outputId": "56802bf0-cde7-4aa7-88c6-d04ab30aec16"
      },
      "source": [
        "sklearn.metrics.log_loss(Y_test, pr,eps=1e-15, normalize=True, sample_weight=None, labels=None)"
      ],
      "execution_count": 24,
      "outputs": [
        {
          "output_type": "execute_result",
          "data": {
            "text/plain": [
              "0.12800461528366044"
            ]
          },
          "metadata": {
            "tags": []
          },
          "execution_count": 24
        }
      ]
    }
  ]
}