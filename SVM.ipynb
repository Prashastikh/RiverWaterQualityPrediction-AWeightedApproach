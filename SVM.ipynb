{
  "nbformat": 4,
  "nbformat_minor": 0,
  "metadata": {
    "colab": {
      "name": "SVM.ipynb",
      "provenance": []
    },
    "kernelspec": {
      "name": "python3",
      "display_name": "Python 3"
    }
  },
  "cells": [
    {
      "cell_type": "markdown",
      "metadata": {
        "id": "OQKrvCkGkJV3",
        "colab_type": "text"
      },
      "source": [
        "#Importing Libraries"
      ]
    },
    {
      "cell_type": "code",
      "metadata": {
        "id": "KKeoVPsQioaB",
        "colab_type": "code",
        "colab": {}
      },
      "source": [
        "import pandas as pd\n",
        "import numpy as np\n",
        "import sklearn\n",
        "import keras\n",
        "from sklearn.model_selection import train_test_split\n",
        "from sklearn.preprocessing import LabelEncoder \n",
        "from sklearn.metrics import confusion_matrix \n",
        "from sklearn.metrics import accuracy_score \n",
        "from sklearn.metrics import classification_report"
      ],
      "execution_count": 1,
      "outputs": []
    },
    {
      "cell_type": "markdown",
      "metadata": {
        "id": "XMB2v2oukeBQ",
        "colab_type": "text"
      },
      "source": [
        "#Importing Data"
      ]
    },
    {
      "cell_type": "code",
      "metadata": {
        "id": "J7ImFciJjQ-j",
        "colab_type": "code",
        "colab": {}
      },
      "source": [
        "df = pd.read_csv('RiverDataResult.csv')"
      ],
      "execution_count": 2,
      "outputs": []
    },
    {
      "cell_type": "code",
      "metadata": {
        "id": "YbsxAEoSjRwy",
        "colab_type": "code",
        "colab": {
          "base_uri": "https://localhost:8080/",
          "height": 34
        },
        "outputId": "b11a5532-5291-4df2-8233-24640cc2ac32"
      },
      "source": [
        "print(df.shape)"
      ],
      "execution_count": 3,
      "outputs": [
        {
          "output_type": "stream",
          "text": [
            "(2326, 22)\n"
          ],
          "name": "stdout"
        }
      ]
    },
    {
      "cell_type": "code",
      "metadata": {
        "id": "kmOAibKgjUKv",
        "colab_type": "code",
        "colab": {
          "base_uri": "https://localhost:8080/",
          "height": 384
        },
        "outputId": "3ccb65db-8c1b-4c6a-f9e1-8c5d01f2cdfd"
      },
      "source": [
        "df.head()"
      ],
      "execution_count": 4,
      "outputs": [
        {
          "output_type": "execute_result",
          "data": {
            "text/html": [
              "<div>\n",
              "<style scoped>\n",
              "    .dataframe tbody tr th:only-of-type {\n",
              "        vertical-align: middle;\n",
              "    }\n",
              "\n",
              "    .dataframe tbody tr th {\n",
              "        vertical-align: top;\n",
              "    }\n",
              "\n",
              "    .dataframe thead th {\n",
              "        text-align: right;\n",
              "    }\n",
              "</style>\n",
              "<table border=\"1\" class=\"dataframe\">\n",
              "  <thead>\n",
              "    <tr style=\"text-align: right;\">\n",
              "      <th></th>\n",
              "      <th>Date</th>\n",
              "      <th>Time</th>\n",
              "      <th>Temp</th>\n",
              "      <th>pH</th>\n",
              "      <th>ORP</th>\n",
              "      <th>EC</th>\n",
              "      <th>RES</th>\n",
              "      <th>TDS</th>\n",
              "      <th>Salinity</th>\n",
              "      <th>Pressure</th>\n",
              "      <th>D.O.</th>\n",
              "      <th>Turbidity</th>\n",
              "      <th>QpH</th>\n",
              "      <th>QTur</th>\n",
              "      <th>QTDS</th>\n",
              "      <th>QDO</th>\n",
              "      <th>WpH</th>\n",
              "      <th>WTur</th>\n",
              "      <th>WTDS</th>\n",
              "      <th>WDO</th>\n",
              "      <th>WQI</th>\n",
              "      <th>Result</th>\n",
              "    </tr>\n",
              "  </thead>\n",
              "  <tbody>\n",
              "    <tr>\n",
              "      <th>0</th>\n",
              "      <td>17-02-2020</td>\n",
              "      <td>17:04:52</td>\n",
              "      <td>20.67</td>\n",
              "      <td>8.40</td>\n",
              "      <td>88.6</td>\n",
              "      <td>470</td>\n",
              "      <td>2128</td>\n",
              "      <td>306</td>\n",
              "      <td>0.23</td>\n",
              "      <td>14.568</td>\n",
              "      <td>101.5</td>\n",
              "      <td>36.7</td>\n",
              "      <td>65</td>\n",
              "      <td>47</td>\n",
              "      <td>55</td>\n",
              "      <td>95</td>\n",
              "      <td>16.575</td>\n",
              "      <td>9.165</td>\n",
              "      <td>9.625</td>\n",
              "      <td>35.625</td>\n",
              "      <td>70.990</td>\n",
              "      <td>4</td>\n",
              "    </tr>\n",
              "    <tr>\n",
              "      <th>1</th>\n",
              "      <td>17-02-2020</td>\n",
              "      <td>17:05:02</td>\n",
              "      <td>20.67</td>\n",
              "      <td>8.40</td>\n",
              "      <td>88.5</td>\n",
              "      <td>470</td>\n",
              "      <td>2128</td>\n",
              "      <td>305</td>\n",
              "      <td>0.23</td>\n",
              "      <td>14.569</td>\n",
              "      <td>101.4</td>\n",
              "      <td>42.4</td>\n",
              "      <td>65</td>\n",
              "      <td>38</td>\n",
              "      <td>55</td>\n",
              "      <td>95</td>\n",
              "      <td>16.575</td>\n",
              "      <td>7.410</td>\n",
              "      <td>9.625</td>\n",
              "      <td>35.625</td>\n",
              "      <td>69.235</td>\n",
              "      <td>3</td>\n",
              "    </tr>\n",
              "    <tr>\n",
              "      <th>2</th>\n",
              "      <td>17-02-2020</td>\n",
              "      <td>17:05:12</td>\n",
              "      <td>20.67</td>\n",
              "      <td>8.40</td>\n",
              "      <td>88.2</td>\n",
              "      <td>470</td>\n",
              "      <td>2128</td>\n",
              "      <td>305</td>\n",
              "      <td>0.23</td>\n",
              "      <td>14.569</td>\n",
              "      <td>101.5</td>\n",
              "      <td>38.2</td>\n",
              "      <td>65</td>\n",
              "      <td>47</td>\n",
              "      <td>55</td>\n",
              "      <td>95</td>\n",
              "      <td>16.575</td>\n",
              "      <td>9.165</td>\n",
              "      <td>9.625</td>\n",
              "      <td>35.625</td>\n",
              "      <td>70.990</td>\n",
              "      <td>4</td>\n",
              "    </tr>\n",
              "    <tr>\n",
              "      <th>3</th>\n",
              "      <td>17-02-2020</td>\n",
              "      <td>17:05:22</td>\n",
              "      <td>20.67</td>\n",
              "      <td>8.40</td>\n",
              "      <td>87.9</td>\n",
              "      <td>470</td>\n",
              "      <td>2128</td>\n",
              "      <td>305</td>\n",
              "      <td>0.23</td>\n",
              "      <td>14.567</td>\n",
              "      <td>101.7</td>\n",
              "      <td>38.0</td>\n",
              "      <td>65</td>\n",
              "      <td>47</td>\n",
              "      <td>55</td>\n",
              "      <td>95</td>\n",
              "      <td>16.575</td>\n",
              "      <td>9.165</td>\n",
              "      <td>9.625</td>\n",
              "      <td>35.625</td>\n",
              "      <td>70.990</td>\n",
              "      <td>4</td>\n",
              "    </tr>\n",
              "    <tr>\n",
              "      <th>4</th>\n",
              "      <td>17-02-2020</td>\n",
              "      <td>17:05:32</td>\n",
              "      <td>20.68</td>\n",
              "      <td>8.41</td>\n",
              "      <td>87.8</td>\n",
              "      <td>469</td>\n",
              "      <td>2132</td>\n",
              "      <td>305</td>\n",
              "      <td>0.23</td>\n",
              "      <td>14.566</td>\n",
              "      <td>101.7</td>\n",
              "      <td>46.8</td>\n",
              "      <td>65</td>\n",
              "      <td>38</td>\n",
              "      <td>55</td>\n",
              "      <td>95</td>\n",
              "      <td>16.575</td>\n",
              "      <td>7.410</td>\n",
              "      <td>9.625</td>\n",
              "      <td>35.625</td>\n",
              "      <td>69.235</td>\n",
              "      <td>3</td>\n",
              "    </tr>\n",
              "  </tbody>\n",
              "</table>\n",
              "</div>"
            ],
            "text/plain": [
              "         Date      Time   Temp   pH   ...   WTDS     WDO     WQI  Result\n",
              "0  17-02-2020  17:04:52  20.67  8.40  ...  9.625  35.625  70.990       4\n",
              "1  17-02-2020  17:05:02  20.67  8.40  ...  9.625  35.625  69.235       3\n",
              "2  17-02-2020  17:05:12  20.67  8.40  ...  9.625  35.625  70.990       4\n",
              "3  17-02-2020  17:05:22  20.67  8.40  ...  9.625  35.625  70.990       4\n",
              "4  17-02-2020  17:05:32  20.68  8.41  ...  9.625  35.625  69.235       3\n",
              "\n",
              "[5 rows x 22 columns]"
            ]
          },
          "metadata": {
            "tags": []
          },
          "execution_count": 4
        }
      ]
    },
    {
      "cell_type": "markdown",
      "metadata": {
        "id": "TlxN6Vhlkh8N",
        "colab_type": "text"
      },
      "source": [
        "#Splitting"
      ]
    },
    {
      "cell_type": "code",
      "metadata": {
        "id": "9A5sMN9PjWPT",
        "colab_type": "code",
        "colab": {}
      },
      "source": [
        "X = df.iloc[:,[3,7,10,11]]"
      ],
      "execution_count": 5,
      "outputs": []
    },
    {
      "cell_type": "code",
      "metadata": {
        "id": "TFzB07JzjYgp",
        "colab_type": "code",
        "colab": {
          "base_uri": "https://localhost:8080/",
          "height": 265
        },
        "outputId": "76d526b9-09e3-4451-9560-c4d9bf849853"
      },
      "source": [
        "print(X)"
      ],
      "execution_count": 6,
      "outputs": [
        {
          "output_type": "stream",
          "text": [
            "       pH   TDS   D.O.  Turbidity\n",
            "0     8.40  306  101.5       36.7\n",
            "1     8.40  305  101.4       42.4\n",
            "2     8.40  305  101.5       38.2\n",
            "3     8.40  305  101.7       38.0\n",
            "4     8.41  305  101.7       46.8\n",
            "...    ...  ...    ...        ...\n",
            "2321  8.94  299  124.9       12.3\n",
            "2322  8.96  297  125.6       11.9\n",
            "2323  8.98  296  125.9       11.8\n",
            "2324  8.95  297  125.7       11.6\n",
            "2325  8.93  299  125.7       13.6\n",
            "\n",
            "[2326 rows x 4 columns]\n"
          ],
          "name": "stdout"
        }
      ]
    },
    {
      "cell_type": "code",
      "metadata": {
        "id": "rYAEUaPqjanE",
        "colab_type": "code",
        "colab": {}
      },
      "source": [
        "Y=df['Result']"
      ],
      "execution_count": 7,
      "outputs": []
    },
    {
      "cell_type": "code",
      "metadata": {
        "id": "PBhVckcrjcpt",
        "colab_type": "code",
        "colab": {}
      },
      "source": [
        "X_train, X_test, Y_train, Y_test = train_test_split(X, Y, test_size=0.33, random_state=45)\n",
        "\n",
        "X_train = X_train.values\n",
        "X_test = X_test.values\n",
        "\n",
        "Y_train = Y_train.values\n",
        "Y_test = Y_test.values"
      ],
      "execution_count": 8,
      "outputs": []
    },
    {
      "cell_type": "markdown",
      "metadata": {
        "id": "Tm2TCHitkj7G",
        "colab_type": "text"
      },
      "source": [
        "#Scaling"
      ]
    },
    {
      "cell_type": "code",
      "metadata": {
        "id": "eaaJPwnhjhvL",
        "colab_type": "code",
        "colab": {}
      },
      "source": [
        "from sklearn.preprocessing import StandardScaler"
      ],
      "execution_count": 9,
      "outputs": []
    },
    {
      "cell_type": "code",
      "metadata": {
        "id": "sEOh9C2ljlVF",
        "colab_type": "code",
        "colab": {}
      },
      "source": [
        "scaler = StandardScaler()\n",
        "scaler.fit(X_train)\n",
        "\n",
        "X_train = scaler.transform(X_train)\n",
        "X_test = scaler.transform(X_test)"
      ],
      "execution_count": 10,
      "outputs": []
    },
    {
      "cell_type": "markdown",
      "metadata": {
        "id": "6apTjC7jkltN",
        "colab_type": "text"
      },
      "source": [
        "#Model"
      ]
    },
    {
      "cell_type": "code",
      "metadata": {
        "id": "jfHF6is1jnQi",
        "colab_type": "code",
        "colab": {}
      },
      "source": [
        "from sklearn import svm"
      ],
      "execution_count": 11,
      "outputs": []
    },
    {
      "cell_type": "code",
      "metadata": {
        "id": "Q0Wi0Gcxjpb7",
        "colab_type": "code",
        "colab": {}
      },
      "source": [
        "linear = svm.SVC(kernel='linear', C=1, decision_function_shape='ovo').fit(X_train, Y_train)\n",
        "rbf = svm.SVC(kernel='rbf', gamma=1, C=1, decision_function_shape='ovo').fit(X_train, Y_train)\n",
        "poly = svm.SVC(kernel='poly', degree=3, C=1, decision_function_shape='ovo').fit(X_train, Y_train)\n",
        "sig = svm.SVC(kernel='sigmoid', C=1, decision_function_shape='ovo').fit(X_train, Y_train)"
      ],
      "execution_count": 12,
      "outputs": []
    },
    {
      "cell_type": "code",
      "metadata": {
        "id": "6-yyhxkWjqDb",
        "colab_type": "code",
        "colab": {}
      },
      "source": [
        "linear_pred = linear.predict(X_test)\n",
        "poly_pred = poly.predict(X_test)\n",
        "rbf_pred = rbf.predict(X_test)\n",
        "sig_pred = sig.predict(X_test)"
      ],
      "execution_count": 13,
      "outputs": []
    },
    {
      "cell_type": "markdown",
      "metadata": {
        "id": "CssNCvpEkolt",
        "colab_type": "text"
      },
      "source": [
        "#Metrics"
      ]
    },
    {
      "cell_type": "code",
      "metadata": {
        "id": "sGwiI0vCj_mz",
        "colab_type": "code",
        "colab": {
          "base_uri": "https://localhost:8080/",
          "height": 230
        },
        "outputId": "8b1b6666-cab5-495b-d3b1-d18355a4a685"
      },
      "source": [
        "cm_lin = confusion_matrix(Y_test, linear_pred)\n",
        "cm_poly = confusion_matrix(Y_test, poly_pred)\n",
        "cm_rbf = confusion_matrix(Y_test, rbf_pred)\n",
        "cm_sig = confusion_matrix(Y_test, sig_pred)\n",
        "print(cm_lin)\n",
        "print(cm_poly)\n",
        "print(cm_rbf)\n",
        "print(cm_sig)"
      ],
      "execution_count": 14,
      "outputs": [
        {
          "output_type": "stream",
          "text": [
            "[[  2   0   0]\n",
            " [  2 361   8]\n",
            " [  0  75 320]]\n",
            "[[  1   1   0]\n",
            " [  1 364   6]\n",
            " [  0 173 222]]\n",
            "[[  0   2   0]\n",
            " [  0 365   6]\n",
            " [  0   9 386]]\n",
            "[[  0   0   2]\n",
            " [  0 301  70]\n",
            " [  0 100 295]]\n"
          ],
          "name": "stdout"
        }
      ]
    },
    {
      "cell_type": "code",
      "metadata": {
        "id": "RRP3-pV0kAYG",
        "colab_type": "code",
        "colab": {
          "base_uri": "https://localhost:8080/",
          "height": 87
        },
        "outputId": "b57bedac-32e3-42a6-bf72-03bcda7ad01b"
      },
      "source": [
        "accuracy_lin = linear.score(X_test, Y_test)\n",
        "accuracy_poly = poly.score(X_test, Y_test)\n",
        "accuracy_rbf = rbf.score(X_test, Y_test)\n",
        "accuracy_sig = sig.score(X_test, Y_test)\n",
        "print(accuracy_lin)\n",
        "print(accuracy_poly)\n",
        "print(accuracy_rbf)\n",
        "print(accuracy_sig)"
      ],
      "execution_count": 15,
      "outputs": [
        {
          "output_type": "stream",
          "text": [
            "0.8893229166666666\n",
            "0.7643229166666666\n",
            "0.9778645833333334\n",
            "0.7760416666666666\n"
          ],
          "name": "stdout"
        }
      ]
    },
    {
      "cell_type": "markdown",
      "metadata": {
        "id": "jKwH9IPzl_JZ",
        "colab_type": "text"
      },
      "source": [
        "#Prediction"
      ]
    },
    {
      "cell_type": "code",
      "metadata": {
        "id": "Qhz2_LGbkCf4",
        "colab_type": "code",
        "colab": {
          "base_uri": "https://localhost:8080/",
          "height": 34
        },
        "outputId": "6568bc48-dde5-4c79-ad05-d75cb184aa95"
      },
      "source": [
        "acc_lin_train = linear.predict(X_train)\n",
        "acc3 = accuracy_score(Y_train, acc_lin_train)\n",
        "print(acc3);"
      ],
      "execution_count": 16,
      "outputs": [
        {
          "output_type": "stream",
          "text": [
            "0.9030808729139923\n"
          ],
          "name": "stdout"
        }
      ]
    },
    {
      "cell_type": "markdown",
      "metadata": {
        "id": "SscjlrLml943",
        "colab_type": "text"
      },
      "source": [
        "#Error"
      ]
    },
    {
      "cell_type": "code",
      "metadata": {
        "id": "-5PhZu-9mNJb",
        "colab_type": "code",
        "colab": {}
      },
      "source": [
        "from sklearn.metrics import mean_absolute_error"
      ],
      "execution_count": 17,
      "outputs": []
    },
    {
      "cell_type": "code",
      "metadata": {
        "id": "WH9Vf8hVkE0L",
        "colab_type": "code",
        "colab": {
          "base_uri": "https://localhost:8080/",
          "height": 34
        },
        "outputId": "c3b6fddf-1a13-419c-fc3d-7004e1aa927b"
      },
      "source": [
        "mean_absolute_error(Y_test, linear_pred)"
      ],
      "execution_count": 18,
      "outputs": [
        {
          "output_type": "execute_result",
          "data": {
            "text/plain": [
              "0.11067708333333333"
            ]
          },
          "metadata": {
            "tags": []
          },
          "execution_count": 18
        }
      ]
    }
  ]
}